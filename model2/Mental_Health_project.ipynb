{
 "cells": [
  {
   "cell_type": "markdown",
   "metadata": {
    "colab_type": "text",
    "id": "view-in-github"
   },
   "source": [
    "<a href=\"https://colab.research.google.com/github/AhlanAlghiff/Mental.ly-Project/blob/Machine-Learning/Mental_Health_project.ipynb\" target=\"_parent\"><img src=\"https://colab.research.google.com/assets/colab-badge.svg\" alt=\"Open In Colab\"/></a>"
   ]
  },
  {
   "cell_type": "markdown",
   "metadata": {
    "id": "e0FUmur3zUm1"
   },
   "source": [
    "#Import Library"
   ]
  },
  {
   "cell_type": "code",
   "execution_count": 1,
   "metadata": {
    "id": "xc79sctcFcQI"
   },
   "outputs": [],
   "source": [
    "import os\n",
    "import pandas as pd\n",
    "import matplotlib.pyplot as plt\n",
    "import tensorflow as tf\n",
    "from tensorflow import keras\n",
    "from tensorflow.keras.callbacks import EarlyStopping\n",
    "from tensorflow.keras import layers\n",
    "from sklearn.model_selection import train_test_split\n",
    "from sklearn.preprocessing import MinMaxScaler\n",
    "from sklearn.metrics import classification_report, confusion_matrix, ConfusionMatrixDisplay\n",
    "from tensorflow.keras.models import save_model, load_model"
   ]
  },
  {
   "cell_type": "code",
   "execution_count": 9,
   "metadata": {
    "colab": {
     "base_uri": "https://localhost:8080/",
     "height": 493
    },
    "id": "KE6EI5afGd1c",
    "outputId": "8edd395d-3b6d-4a5c-c1e8-1fe800eb015d"
   },
   "outputs": [
    {
     "data": {
      "text/html": [
       "<div>\n",
       "<style scoped>\n",
       "    .dataframe tbody tr th:only-of-type {\n",
       "        vertical-align: middle;\n",
       "    }\n",
       "\n",
       "    .dataframe tbody tr th {\n",
       "        vertical-align: top;\n",
       "    }\n",
       "\n",
       "    .dataframe thead th {\n",
       "        text-align: right;\n",
       "    }\n",
       "</style>\n",
       "<table border=\"1\" class=\"dataframe\">\n",
       "  <thead>\n",
       "    <tr style=\"text-align: right;\">\n",
       "      <th></th>\n",
       "      <th>Gender</th>\n",
       "      <th>Age</th>\n",
       "      <th>Work Pressure</th>\n",
       "      <th>Job Satisfaction</th>\n",
       "      <th>Sleep Duration</th>\n",
       "      <th>Dietary Habits</th>\n",
       "      <th>Have you ever had suicidal thoughts ?</th>\n",
       "      <th>Work Hours</th>\n",
       "      <th>Financial Stress</th>\n",
       "      <th>Family History of Mental Illness</th>\n",
       "      <th>Depression</th>\n",
       "    </tr>\n",
       "  </thead>\n",
       "  <tbody>\n",
       "    <tr>\n",
       "      <th>0</th>\n",
       "      <td>Female</td>\n",
       "      <td>37</td>\n",
       "      <td>2.0</td>\n",
       "      <td>4.0</td>\n",
       "      <td>7-8 hours</td>\n",
       "      <td>Moderate</td>\n",
       "      <td>No</td>\n",
       "      <td>6</td>\n",
       "      <td>2</td>\n",
       "      <td>No</td>\n",
       "      <td>No</td>\n",
       "    </tr>\n",
       "    <tr>\n",
       "      <th>1</th>\n",
       "      <td>Male</td>\n",
       "      <td>60</td>\n",
       "      <td>4.0</td>\n",
       "      <td>3.0</td>\n",
       "      <td>5-6 hours</td>\n",
       "      <td>Unhealthy</td>\n",
       "      <td>Yes</td>\n",
       "      <td>0</td>\n",
       "      <td>4</td>\n",
       "      <td>Yes</td>\n",
       "      <td>No</td>\n",
       "    </tr>\n",
       "    <tr>\n",
       "      <th>2</th>\n",
       "      <td>Female</td>\n",
       "      <td>42</td>\n",
       "      <td>2.0</td>\n",
       "      <td>3.0</td>\n",
       "      <td>5-6 hours</td>\n",
       "      <td>Moderate</td>\n",
       "      <td>No</td>\n",
       "      <td>0</td>\n",
       "      <td>2</td>\n",
       "      <td>No</td>\n",
       "      <td>No</td>\n",
       "    </tr>\n",
       "    <tr>\n",
       "      <th>3</th>\n",
       "      <td>Female</td>\n",
       "      <td>44</td>\n",
       "      <td>3.0</td>\n",
       "      <td>5.0</td>\n",
       "      <td>7-8 hours</td>\n",
       "      <td>Healthy</td>\n",
       "      <td>Yes</td>\n",
       "      <td>1</td>\n",
       "      <td>2</td>\n",
       "      <td>Yes</td>\n",
       "      <td>No</td>\n",
       "    </tr>\n",
       "    <tr>\n",
       "      <th>4</th>\n",
       "      <td>Male</td>\n",
       "      <td>48</td>\n",
       "      <td>4.0</td>\n",
       "      <td>3.0</td>\n",
       "      <td>7-8 hours</td>\n",
       "      <td>Moderate</td>\n",
       "      <td>Yes</td>\n",
       "      <td>6</td>\n",
       "      <td>5</td>\n",
       "      <td>Yes</td>\n",
       "      <td>No</td>\n",
       "    </tr>\n",
       "    <tr>\n",
       "      <th>...</th>\n",
       "      <td>...</td>\n",
       "      <td>...</td>\n",
       "      <td>...</td>\n",
       "      <td>...</td>\n",
       "      <td>...</td>\n",
       "      <td>...</td>\n",
       "      <td>...</td>\n",
       "      <td>...</td>\n",
       "      <td>...</td>\n",
       "      <td>...</td>\n",
       "      <td>...</td>\n",
       "    </tr>\n",
       "    <tr>\n",
       "      <th>2049</th>\n",
       "      <td>Female</td>\n",
       "      <td>45</td>\n",
       "      <td>1.0</td>\n",
       "      <td>3.0</td>\n",
       "      <td>Less than 5 hours</td>\n",
       "      <td>Healthy</td>\n",
       "      <td>Yes</td>\n",
       "      <td>2</td>\n",
       "      <td>5</td>\n",
       "      <td>Yes</td>\n",
       "      <td>No</td>\n",
       "    </tr>\n",
       "    <tr>\n",
       "      <th>2050</th>\n",
       "      <td>Male</td>\n",
       "      <td>25</td>\n",
       "      <td>1.0</td>\n",
       "      <td>5.0</td>\n",
       "      <td>5-6 hours</td>\n",
       "      <td>Healthy</td>\n",
       "      <td>Yes</td>\n",
       "      <td>12</td>\n",
       "      <td>3</td>\n",
       "      <td>Yes</td>\n",
       "      <td>No</td>\n",
       "    </tr>\n",
       "    <tr>\n",
       "      <th>2051</th>\n",
       "      <td>Female</td>\n",
       "      <td>23</td>\n",
       "      <td>3.0</td>\n",
       "      <td>1.0</td>\n",
       "      <td>Less than 5 hours</td>\n",
       "      <td>Moderate</td>\n",
       "      <td>Yes</td>\n",
       "      <td>8</td>\n",
       "      <td>3</td>\n",
       "      <td>No</td>\n",
       "      <td>Yes</td>\n",
       "    </tr>\n",
       "    <tr>\n",
       "      <th>2052</th>\n",
       "      <td>Female</td>\n",
       "      <td>24</td>\n",
       "      <td>1.0</td>\n",
       "      <td>4.0</td>\n",
       "      <td>Less than 5 hours</td>\n",
       "      <td>Moderate</td>\n",
       "      <td>Yes</td>\n",
       "      <td>4</td>\n",
       "      <td>4</td>\n",
       "      <td>No</td>\n",
       "      <td>No</td>\n",
       "    </tr>\n",
       "    <tr>\n",
       "      <th>2053</th>\n",
       "      <td>Female</td>\n",
       "      <td>56</td>\n",
       "      <td>2.0</td>\n",
       "      <td>3.0</td>\n",
       "      <td>7-8 hours</td>\n",
       "      <td>Healthy</td>\n",
       "      <td>No</td>\n",
       "      <td>4</td>\n",
       "      <td>5</td>\n",
       "      <td>Yes</td>\n",
       "      <td>No</td>\n",
       "    </tr>\n",
       "  </tbody>\n",
       "</table>\n",
       "<p>2054 rows × 11 columns</p>\n",
       "</div>"
      ],
      "text/plain": [
       "      Gender  Age  Work Pressure  Job Satisfaction     Sleep Duration  \\\n",
       "0     Female   37            2.0               4.0          7-8 hours   \n",
       "1       Male   60            4.0               3.0          5-6 hours   \n",
       "2     Female   42            2.0               3.0          5-6 hours   \n",
       "3     Female   44            3.0               5.0          7-8 hours   \n",
       "4       Male   48            4.0               3.0          7-8 hours   \n",
       "...      ...  ...            ...               ...                ...   \n",
       "2049  Female   45            1.0               3.0  Less than 5 hours   \n",
       "2050    Male   25            1.0               5.0          5-6 hours   \n",
       "2051  Female   23            3.0               1.0  Less than 5 hours   \n",
       "2052  Female   24            1.0               4.0  Less than 5 hours   \n",
       "2053  Female   56            2.0               3.0          7-8 hours   \n",
       "\n",
       "     Dietary Habits Have you ever had suicidal thoughts ?  Work Hours  \\\n",
       "0          Moderate                                    No           6   \n",
       "1         Unhealthy                                   Yes           0   \n",
       "2          Moderate                                    No           0   \n",
       "3           Healthy                                   Yes           1   \n",
       "4          Moderate                                   Yes           6   \n",
       "...             ...                                   ...         ...   \n",
       "2049        Healthy                                   Yes           2   \n",
       "2050        Healthy                                   Yes          12   \n",
       "2051       Moderate                                   Yes           8   \n",
       "2052       Moderate                                   Yes           4   \n",
       "2053        Healthy                                    No           4   \n",
       "\n",
       "      Financial Stress Family History of Mental Illness Depression  \n",
       "0                    2                               No         No  \n",
       "1                    4                              Yes         No  \n",
       "2                    2                               No         No  \n",
       "3                    2                              Yes         No  \n",
       "4                    5                              Yes         No  \n",
       "...                ...                              ...        ...  \n",
       "2049                 5                              Yes         No  \n",
       "2050                 3                              Yes         No  \n",
       "2051                 3                               No        Yes  \n",
       "2052                 4                               No         No  \n",
       "2053                 5                              Yes         No  \n",
       "\n",
       "[2054 rows x 11 columns]"
      ]
     },
     "execution_count": 9,
     "metadata": {},
     "output_type": "execute_result"
    }
   ],
   "source": [
    "df = pd.read_csv('https://raw.githubusercontent.com/AhlanAlghiff/Mental.ly-Project/refs/heads/Machine-Learning/dataset/Depression%20Professional%20Dataset.csv')\n",
    "df"
   ]
  },
  {
   "cell_type": "code",
   "execution_count": 10,
   "metadata": {
    "colab": {
     "base_uri": "https://localhost:8080/"
    },
    "id": "YNghGxNuHfNg",
    "outputId": "f4bed247-3f1f-4d3f-de47-1cec91c45533"
   },
   "outputs": [
    {
     "data": {
      "text/plain": [
       "0"
      ]
     },
     "execution_count": 10,
     "metadata": {},
     "output_type": "execute_result"
    }
   ],
   "source": [
    "df.duplicated().sum()"
   ]
  },
  {
   "cell_type": "code",
   "execution_count": 11,
   "metadata": {
    "colab": {
     "base_uri": "https://localhost:8080/",
     "height": 429
    },
    "id": "fG3XNk1wHggL",
    "outputId": "c30d9cd4-088a-4e13-d9f3-f8346ff58cd0"
   },
   "outputs": [
    {
     "data": {
      "text/plain": [
       "Gender                                   0\n",
       "Age                                      0\n",
       "Work Pressure                            0\n",
       "Job Satisfaction                         0\n",
       "Sleep Duration                           0\n",
       "Dietary Habits                           0\n",
       "Have you ever had suicidal thoughts ?    0\n",
       "Work Hours                               0\n",
       "Financial Stress                         0\n",
       "Family History of Mental Illness         0\n",
       "Depression                               0\n",
       "dtype: int64"
      ]
     },
     "execution_count": 11,
     "metadata": {},
     "output_type": "execute_result"
    }
   ],
   "source": [
    "df.isnull().sum()"
   ]
  },
  {
   "cell_type": "code",
   "execution_count": 12,
   "metadata": {
    "colab": {
     "base_uri": "https://localhost:8080/"
    },
    "id": "G0fU4JdCHjda",
    "outputId": "37e32786-f8db-4a43-d058-f78d0c4cd0f5"
   },
   "outputs": [
    {
     "name": "stdout",
     "output_type": "stream",
     "text": [
      "<class 'pandas.core.frame.DataFrame'>\n",
      "RangeIndex: 2054 entries, 0 to 2053\n",
      "Data columns (total 11 columns):\n",
      " #   Column                                 Non-Null Count  Dtype  \n",
      "---  ------                                 --------------  -----  \n",
      " 0   Gender                                 2054 non-null   object \n",
      " 1   Age                                    2054 non-null   int64  \n",
      " 2   Work Pressure                          2054 non-null   float64\n",
      " 3   Job Satisfaction                       2054 non-null   float64\n",
      " 4   Sleep Duration                         2054 non-null   object \n",
      " 5   Dietary Habits                         2054 non-null   object \n",
      " 6   Have you ever had suicidal thoughts ?  2054 non-null   object \n",
      " 7   Work Hours                             2054 non-null   int64  \n",
      " 8   Financial Stress                       2054 non-null   int64  \n",
      " 9   Family History of Mental Illness       2054 non-null   object \n",
      " 10  Depression                             2054 non-null   object \n",
      "dtypes: float64(2), int64(3), object(6)\n",
      "memory usage: 176.6+ KB\n"
     ]
    }
   ],
   "source": [
    "df.info()"
   ]
  },
  {
   "cell_type": "markdown",
   "metadata": {
    "id": "g3icNhUCzn3v"
   },
   "source": [
    "#Preprocessing"
   ]
  },
  {
   "cell_type": "code",
   "execution_count": 13,
   "metadata": {
    "id": "pF_bmq67IANm"
   },
   "outputs": [],
   "source": [
    "# Mengubah Kolom Kategorik Menjadi Numerik\n",
    "columns = ['Have you ever had suicidal thoughts ?', 'Family History of Mental Illness', 'Depression']\n",
    "df[columns] = df[columns].apply(lambda col: col.map(lambda x: 1 if x == 'Yes' else 0))"
   ]
  },
  {
   "cell_type": "code",
   "execution_count": 14,
   "metadata": {
    "colab": {
     "base_uri": "https://localhost:8080/"
    },
    "id": "UB_ibmfa42vB",
    "outputId": "5cbef3a6-5502-4f7e-cab6-261f27c90d3b"
   },
   "outputs": [
    {
     "name": "stderr",
     "output_type": "stream",
     "text": [
      "C:\\Users\\ahlan\\AppData\\Local\\Temp\\ipykernel_8956\\2287534569.py:2: FutureWarning: Downcasting behavior in `replace` is deprecated and will be removed in a future version. To retain the old behavior, explicitly call `result.infer_objects(copy=False)`. To opt-in to the future behavior, set `pd.set_option('future.no_silent_downcasting', True)`\n",
      "  df['Gender'] = df['Gender'].replace({'Female': 0, 'Male': 1}).astype(int)\n",
      "C:\\Users\\ahlan\\AppData\\Local\\Temp\\ipykernel_8956\\2287534569.py:3: FutureWarning: Downcasting behavior in `replace` is deprecated and will be removed in a future version. To retain the old behavior, explicitly call `result.infer_objects(copy=False)`. To opt-in to the future behavior, set `pd.set_option('future.no_silent_downcasting', True)`\n",
      "  df['Sleep Duration'] = df['Sleep Duration'].replace({\n",
      "C:\\Users\\ahlan\\AppData\\Local\\Temp\\ipykernel_8956\\2287534569.py:6: FutureWarning: Downcasting behavior in `replace` is deprecated and will be removed in a future version. To retain the old behavior, explicitly call `result.infer_objects(copy=False)`. To opt-in to the future behavior, set `pd.set_option('future.no_silent_downcasting', True)`\n",
      "  df['Dietary Habits'] = df['Dietary Habits'].replace({\n"
     ]
    }
   ],
   "source": [
    "# Mapping Kolom Kategorik diubah ke int\n",
    "df['Gender'] = df['Gender'].replace({'Female': 0, 'Male': 1}).astype(int)\n",
    "df['Sleep Duration'] = df['Sleep Duration'].replace({\n",
    "    '7-8 hours': 2, 'Less than 5 hours': 0, '5-6 hours': 1, 'More than 8 hours': 3\n",
    "}).astype(int)\n",
    "df['Dietary Habits'] = df['Dietary Habits'].replace({\n",
    "    'Unhealthy': 0, 'Healthy': 2, 'Moderate': 1\n",
    "}).astype(int)"
   ]
  },
  {
   "cell_type": "code",
   "execution_count": 15,
   "metadata": {
    "colab": {
     "base_uri": "https://localhost:8080/",
     "height": 206
    },
    "id": "Nc_CIIE_JECb",
    "outputId": "d1c8e7c6-249d-4b5e-e631-ce4fc67021f0"
   },
   "outputs": [
    {
     "data": {
      "text/html": [
       "<div>\n",
       "<style scoped>\n",
       "    .dataframe tbody tr th:only-of-type {\n",
       "        vertical-align: middle;\n",
       "    }\n",
       "\n",
       "    .dataframe tbody tr th {\n",
       "        vertical-align: top;\n",
       "    }\n",
       "\n",
       "    .dataframe thead th {\n",
       "        text-align: right;\n",
       "    }\n",
       "</style>\n",
       "<table border=\"1\" class=\"dataframe\">\n",
       "  <thead>\n",
       "    <tr style=\"text-align: right;\">\n",
       "      <th></th>\n",
       "      <th>Age</th>\n",
       "    </tr>\n",
       "  </thead>\n",
       "  <tbody>\n",
       "    <tr>\n",
       "      <th>0</th>\n",
       "      <td>0.452381</td>\n",
       "    </tr>\n",
       "    <tr>\n",
       "      <th>1</th>\n",
       "      <td>1.000000</td>\n",
       "    </tr>\n",
       "    <tr>\n",
       "      <th>2</th>\n",
       "      <td>0.571429</td>\n",
       "    </tr>\n",
       "    <tr>\n",
       "      <th>3</th>\n",
       "      <td>0.619048</td>\n",
       "    </tr>\n",
       "    <tr>\n",
       "      <th>4</th>\n",
       "      <td>0.714286</td>\n",
       "    </tr>\n",
       "  </tbody>\n",
       "</table>\n",
       "</div>"
      ],
      "text/plain": [
       "        Age\n",
       "0  0.452381\n",
       "1  1.000000\n",
       "2  0.571429\n",
       "3  0.619048\n",
       "4  0.714286"
      ]
     },
     "execution_count": 15,
     "metadata": {},
     "output_type": "execute_result"
    }
   ],
   "source": [
    "#Normalisasi Kolom Age\n",
    "columns_to_normalize = ['Age']\n",
    "scaler = MinMaxScaler()\n",
    "df[columns_to_normalize] = scaler.fit_transform(df[columns_to_normalize])\n",
    "df[columns_to_normalize].head()"
   ]
  },
  {
   "cell_type": "code",
   "execution_count": 16,
   "metadata": {
    "colab": {
     "base_uri": "https://localhost:8080/",
     "height": 98
    },
    "id": "ky4hgjRnIhym",
    "outputId": "fc533943-318d-4a6d-daa6-b00f76705b04"
   },
   "outputs": [
    {
     "data": {
      "text/html": [
       "<div>\n",
       "<style scoped>\n",
       "    .dataframe tbody tr th:only-of-type {\n",
       "        vertical-align: middle;\n",
       "    }\n",
       "\n",
       "    .dataframe tbody tr th {\n",
       "        vertical-align: top;\n",
       "    }\n",
       "\n",
       "    .dataframe thead th {\n",
       "        text-align: right;\n",
       "    }\n",
       "</style>\n",
       "<table border=\"1\" class=\"dataframe\">\n",
       "  <thead>\n",
       "    <tr style=\"text-align: right;\">\n",
       "      <th></th>\n",
       "      <th>Gender</th>\n",
       "      <th>Age</th>\n",
       "      <th>Work Pressure</th>\n",
       "      <th>Job Satisfaction</th>\n",
       "      <th>Sleep Duration</th>\n",
       "      <th>Dietary Habits</th>\n",
       "      <th>Have you ever had suicidal thoughts ?</th>\n",
       "      <th>Work Hours</th>\n",
       "      <th>Financial Stress</th>\n",
       "      <th>Family History of Mental Illness</th>\n",
       "      <th>Depression</th>\n",
       "    </tr>\n",
       "  </thead>\n",
       "  <tbody>\n",
       "    <tr>\n",
       "      <th>1512</th>\n",
       "      <td>1</td>\n",
       "      <td>0.428571</td>\n",
       "      <td>3.0</td>\n",
       "      <td>4.0</td>\n",
       "      <td>2</td>\n",
       "      <td>0</td>\n",
       "      <td>0</td>\n",
       "      <td>6</td>\n",
       "      <td>3</td>\n",
       "      <td>1</td>\n",
       "      <td>0</td>\n",
       "    </tr>\n",
       "  </tbody>\n",
       "</table>\n",
       "</div>"
      ],
      "text/plain": [
       "      Gender       Age  Work Pressure  Job Satisfaction  Sleep Duration  \\\n",
       "1512       1  0.428571            3.0               4.0               2   \n",
       "\n",
       "      Dietary Habits  Have you ever had suicidal thoughts ?  Work Hours  \\\n",
       "1512               0                                      0           6   \n",
       "\n",
       "      Financial Stress  Family History of Mental Illness  Depression  \n",
       "1512                 3                                 1           0  "
      ]
     },
     "execution_count": 16,
     "metadata": {},
     "output_type": "execute_result"
    }
   ],
   "source": [
    "df.sample()"
   ]
  },
  {
   "cell_type": "code",
   "execution_count": 17,
   "metadata": {
    "id": "6NDDYxGVJV79"
   },
   "outputs": [],
   "source": [
    "#Menentukan Feature\n",
    "X = df[['Gender', 'Age', 'Work Pressure', 'Job Satisfaction', 'Sleep Duration',\n",
    "        'Dietary Habits', 'Have you ever had suicidal thoughts ?', 'Work Hours',\n",
    "        'Financial Stress', 'Family History of Mental Illness']]\n",
    "#Menentukan Label\n",
    "y = df['Depression']"
   ]
  },
  {
   "cell_type": "markdown",
   "metadata": {
    "id": "s-7wymKo39Yt"
   },
   "source": [
    "#Modelling"
   ]
  },
  {
   "cell_type": "code",
   "execution_count": 18,
   "metadata": {
    "id": "SyP49i5pJ_JZ"
   },
   "outputs": [],
   "source": [
    "#Membagi Data Training dan Testing\n",
    "X_train, X_test, y_train, y_test = train_test_split(X, y, test_size=0.2 ,random_state=42)"
   ]
  },
  {
   "cell_type": "code",
   "execution_count": 19,
   "metadata": {
    "id": "OtZ9EaRcK0xl"
   },
   "outputs": [],
   "source": [
    "# Mengurangi val_loss dengan ReduceLROnPlateau\n",
    "reduce_lr = tf.keras.callbacks.ReduceLROnPlateau(\n",
    "    monitor='val_loss', factor=0.1, patience=10, min_lr=1e-6\n",
    ")"
   ]
  },
  {
   "cell_type": "code",
   "execution_count": 20,
   "metadata": {
    "id": "WscZEsrmK1uQ"
   },
   "outputs": [],
   "source": [
    "#Menggunakan early stopping untuk memonitor val_loss\n",
    "early_stopping = EarlyStopping(monitor='val_loss', patience=10, restore_best_weights=True)"
   ]
  },
  {
   "cell_type": "code",
   "execution_count": 21,
   "metadata": {
    "id": "VQW8JWMYJ1ke"
   },
   "outputs": [],
   "source": [
    "#Membuat Model\n",
    "model = tf.keras.models.Sequential([\n",
    "    tf.keras.Input(shape=(X_train.shape[1],)),\n",
    "    tf.keras.layers.Dense(8, activation='relu'),\n",
    "    tf.keras.layers.Dense(1, activation='sigmoid'),\n",
    "])"
   ]
  },
  {
   "cell_type": "code",
   "execution_count": 22,
   "metadata": {
    "colab": {
     "base_uri": "https://localhost:8080/",
     "height": 203
    },
    "id": "tGFRJWIN5AD6",
    "outputId": "c178226c-cefa-4716-897f-9bc9762b41e3"
   },
   "outputs": [
    {
     "data": {
      "text/html": [
       "<pre style=\"white-space:pre;overflow-x:auto;line-height:normal;font-family:Menlo,'DejaVu Sans Mono',consolas,'Courier New',monospace\"><span style=\"font-weight: bold\">Model: \"sequential\"</span>\n",
       "</pre>\n"
      ],
      "text/plain": [
       "\u001b[1mModel: \"sequential\"\u001b[0m\n"
      ]
     },
     "metadata": {},
     "output_type": "display_data"
    },
    {
     "data": {
      "text/html": [
       "<pre style=\"white-space:pre;overflow-x:auto;line-height:normal;font-family:Menlo,'DejaVu Sans Mono',consolas,'Courier New',monospace\">┏━━━━━━━━━━━━━━━━━━━━━━━━━━━━━━━━━┳━━━━━━━━━━━━━━━━━━━━━━━━┳━━━━━━━━━━━━━━━┓\n",
       "┃<span style=\"font-weight: bold\"> Layer (type)                    </span>┃<span style=\"font-weight: bold\"> Output Shape           </span>┃<span style=\"font-weight: bold\">       Param # </span>┃\n",
       "┡━━━━━━━━━━━━━━━━━━━━━━━━━━━━━━━━━╇━━━━━━━━━━━━━━━━━━━━━━━━╇━━━━━━━━━━━━━━━┩\n",
       "│ dense (<span style=\"color: #0087ff; text-decoration-color: #0087ff\">Dense</span>)                   │ (<span style=\"color: #00d7ff; text-decoration-color: #00d7ff\">None</span>, <span style=\"color: #00af00; text-decoration-color: #00af00\">8</span>)              │            <span style=\"color: #00af00; text-decoration-color: #00af00\">88</span> │\n",
       "├─────────────────────────────────┼────────────────────────┼───────────────┤\n",
       "│ dense_1 (<span style=\"color: #0087ff; text-decoration-color: #0087ff\">Dense</span>)                 │ (<span style=\"color: #00d7ff; text-decoration-color: #00d7ff\">None</span>, <span style=\"color: #00af00; text-decoration-color: #00af00\">1</span>)              │             <span style=\"color: #00af00; text-decoration-color: #00af00\">9</span> │\n",
       "└─────────────────────────────────┴────────────────────────┴───────────────┘\n",
       "</pre>\n"
      ],
      "text/plain": [
       "┏━━━━━━━━━━━━━━━━━━━━━━━━━━━━━━━━━┳━━━━━━━━━━━━━━━━━━━━━━━━┳━━━━━━━━━━━━━━━┓\n",
       "┃\u001b[1m \u001b[0m\u001b[1mLayer (type)                   \u001b[0m\u001b[1m \u001b[0m┃\u001b[1m \u001b[0m\u001b[1mOutput Shape          \u001b[0m\u001b[1m \u001b[0m┃\u001b[1m \u001b[0m\u001b[1m      Param #\u001b[0m\u001b[1m \u001b[0m┃\n",
       "┡━━━━━━━━━━━━━━━━━━━━━━━━━━━━━━━━━╇━━━━━━━━━━━━━━━━━━━━━━━━╇━━━━━━━━━━━━━━━┩\n",
       "│ dense (\u001b[38;5;33mDense\u001b[0m)                   │ (\u001b[38;5;45mNone\u001b[0m, \u001b[38;5;34m8\u001b[0m)              │            \u001b[38;5;34m88\u001b[0m │\n",
       "├─────────────────────────────────┼────────────────────────┼───────────────┤\n",
       "│ dense_1 (\u001b[38;5;33mDense\u001b[0m)                 │ (\u001b[38;5;45mNone\u001b[0m, \u001b[38;5;34m1\u001b[0m)              │             \u001b[38;5;34m9\u001b[0m │\n",
       "└─────────────────────────────────┴────────────────────────┴───────────────┘\n"
      ]
     },
     "metadata": {},
     "output_type": "display_data"
    },
    {
     "data": {
      "text/html": [
       "<pre style=\"white-space:pre;overflow-x:auto;line-height:normal;font-family:Menlo,'DejaVu Sans Mono',consolas,'Courier New',monospace\"><span style=\"font-weight: bold\"> Total params: </span><span style=\"color: #00af00; text-decoration-color: #00af00\">97</span> (388.00 B)\n",
       "</pre>\n"
      ],
      "text/plain": [
       "\u001b[1m Total params: \u001b[0m\u001b[38;5;34m97\u001b[0m (388.00 B)\n"
      ]
     },
     "metadata": {},
     "output_type": "display_data"
    },
    {
     "data": {
      "text/html": [
       "<pre style=\"white-space:pre;overflow-x:auto;line-height:normal;font-family:Menlo,'DejaVu Sans Mono',consolas,'Courier New',monospace\"><span style=\"font-weight: bold\"> Trainable params: </span><span style=\"color: #00af00; text-decoration-color: #00af00\">97</span> (388.00 B)\n",
       "</pre>\n"
      ],
      "text/plain": [
       "\u001b[1m Trainable params: \u001b[0m\u001b[38;5;34m97\u001b[0m (388.00 B)\n"
      ]
     },
     "metadata": {},
     "output_type": "display_data"
    },
    {
     "data": {
      "text/html": [
       "<pre style=\"white-space:pre;overflow-x:auto;line-height:normal;font-family:Menlo,'DejaVu Sans Mono',consolas,'Courier New',monospace\"><span style=\"font-weight: bold\"> Non-trainable params: </span><span style=\"color: #00af00; text-decoration-color: #00af00\">0</span> (0.00 B)\n",
       "</pre>\n"
      ],
      "text/plain": [
       "\u001b[1m Non-trainable params: \u001b[0m\u001b[38;5;34m0\u001b[0m (0.00 B)\n"
      ]
     },
     "metadata": {},
     "output_type": "display_data"
    }
   ],
   "source": [
    "model.compile(optimizer=tf.keras.optimizers.Adam(learning_rate=0.001), loss='binary_crossentropy', metrics=['accuracy'])\n",
    "model.summary()"
   ]
  },
  {
   "cell_type": "code",
   "execution_count": 23,
   "metadata": {
    "colab": {
     "base_uri": "https://localhost:8080/"
    },
    "id": "cMll1L2ZLCNg",
    "outputId": "f490a50e-a30a-44f1-9d57-81bbcfce096c"
   },
   "outputs": [
    {
     "name": "stdout",
     "output_type": "stream",
     "text": [
      "Epoch 1/500\n",
      "\u001b[1m52/52\u001b[0m \u001b[32m━━━━━━━━━━━━━━━━━━━━\u001b[0m\u001b[37m\u001b[0m \u001b[1m2s\u001b[0m 7ms/step - accuracy: 0.6026 - loss: 0.6916 - val_accuracy: 0.8759 - val_loss: 0.4362 - learning_rate: 0.0010\n",
      "Epoch 2/500\n",
      "\u001b[1m52/52\u001b[0m \u001b[32m━━━━━━━━━━━━━━━━━━━━\u001b[0m\u001b[37m\u001b[0m \u001b[1m0s\u001b[0m 2ms/step - accuracy: 0.8922 - loss: 0.4120 - val_accuracy: 0.8954 - val_loss: 0.3826 - learning_rate: 0.0010\n",
      "Epoch 3/500\n",
      "\u001b[1m52/52\u001b[0m \u001b[32m━━━━━━━━━━━━━━━━━━━━\u001b[0m\u001b[37m\u001b[0m \u001b[1m0s\u001b[0m 3ms/step - accuracy: 0.9101 - loss: 0.3472 - val_accuracy: 0.8954 - val_loss: 0.3655 - learning_rate: 0.0010\n",
      "Epoch 4/500\n",
      "\u001b[1m52/52\u001b[0m \u001b[32m━━━━━━━━━━━━━━━━━━━━\u001b[0m\u001b[37m\u001b[0m \u001b[1m0s\u001b[0m 2ms/step - accuracy: 0.9043 - loss: 0.3344 - val_accuracy: 0.8954 - val_loss: 0.3513 - learning_rate: 0.0010\n",
      "Epoch 5/500\n",
      "\u001b[1m52/52\u001b[0m \u001b[32m━━━━━━━━━━━━━━━━━━━━\u001b[0m\u001b[37m\u001b[0m \u001b[1m0s\u001b[0m 2ms/step - accuracy: 0.8994 - loss: 0.3316 - val_accuracy: 0.8929 - val_loss: 0.3383 - learning_rate: 0.0010\n",
      "Epoch 6/500\n",
      "\u001b[1m52/52\u001b[0m \u001b[32m━━━━━━━━━━━━━━━━━━━━\u001b[0m\u001b[37m\u001b[0m \u001b[1m0s\u001b[0m 2ms/step - accuracy: 0.8923 - loss: 0.3440 - val_accuracy: 0.8954 - val_loss: 0.3279 - learning_rate: 0.0010\n",
      "Epoch 7/500\n",
      "\u001b[1m52/52\u001b[0m \u001b[32m━━━━━━━━━━━━━━━━━━━━\u001b[0m\u001b[37m\u001b[0m \u001b[1m0s\u001b[0m 2ms/step - accuracy: 0.9074 - loss: 0.3077 - val_accuracy: 0.8954 - val_loss: 0.3166 - learning_rate: 0.0010\n",
      "Epoch 8/500\n",
      "\u001b[1m52/52\u001b[0m \u001b[32m━━━━━━━━━━━━━━━━━━━━\u001b[0m\u001b[37m\u001b[0m \u001b[1m0s\u001b[0m 2ms/step - accuracy: 0.9048 - loss: 0.2924 - val_accuracy: 0.8954 - val_loss: 0.3073 - learning_rate: 0.0010\n",
      "Epoch 9/500\n",
      "\u001b[1m52/52\u001b[0m \u001b[32m━━━━━━━━━━━━━━━━━━━━\u001b[0m\u001b[37m\u001b[0m \u001b[1m0s\u001b[0m 2ms/step - accuracy: 0.9057 - loss: 0.2822 - val_accuracy: 0.8954 - val_loss: 0.2991 - learning_rate: 0.0010\n",
      "Epoch 10/500\n",
      "\u001b[1m52/52\u001b[0m \u001b[32m━━━━━━━━━━━━━━━━━━━━\u001b[0m\u001b[37m\u001b[0m \u001b[1m0s\u001b[0m 2ms/step - accuracy: 0.8973 - loss: 0.2997 - val_accuracy: 0.8978 - val_loss: 0.2918 - learning_rate: 0.0010\n",
      "Epoch 11/500\n",
      "\u001b[1m52/52\u001b[0m \u001b[32m━━━━━━━━━━━━━━━━━━━━\u001b[0m\u001b[37m\u001b[0m \u001b[1m0s\u001b[0m 6ms/step - accuracy: 0.9151 - loss: 0.2569 - val_accuracy: 0.8954 - val_loss: 0.2827 - learning_rate: 0.0010\n",
      "Epoch 12/500\n",
      "\u001b[1m52/52\u001b[0m \u001b[32m━━━━━━━━━━━━━━━━━━━━\u001b[0m\u001b[37m\u001b[0m \u001b[1m0s\u001b[0m 3ms/step - accuracy: 0.9104 - loss: 0.2656 - val_accuracy: 0.9002 - val_loss: 0.2748 - learning_rate: 0.0010\n",
      "Epoch 13/500\n",
      "\u001b[1m52/52\u001b[0m \u001b[32m━━━━━━━━━━━━━━━━━━━━\u001b[0m\u001b[37m\u001b[0m \u001b[1m0s\u001b[0m 3ms/step - accuracy: 0.9171 - loss: 0.2510 - val_accuracy: 0.9051 - val_loss: 0.2668 - learning_rate: 0.0010\n",
      "Epoch 14/500\n",
      "\u001b[1m52/52\u001b[0m \u001b[32m━━━━━━━━━━━━━━━━━━━━\u001b[0m\u001b[37m\u001b[0m \u001b[1m0s\u001b[0m 3ms/step - accuracy: 0.9138 - loss: 0.2544 - val_accuracy: 0.9051 - val_loss: 0.2570 - learning_rate: 0.0010\n",
      "Epoch 15/500\n",
      "\u001b[1m52/52\u001b[0m \u001b[32m━━━━━━━━━━━━━━━━━━━━\u001b[0m\u001b[37m\u001b[0m \u001b[1m0s\u001b[0m 2ms/step - accuracy: 0.9130 - loss: 0.2477 - val_accuracy: 0.9124 - val_loss: 0.2407 - learning_rate: 0.0010\n",
      "Epoch 16/500\n",
      "\u001b[1m52/52\u001b[0m \u001b[32m━━━━━━━━━━━━━━━━━━━━\u001b[0m\u001b[37m\u001b[0m \u001b[1m0s\u001b[0m 2ms/step - accuracy: 0.9061 - loss: 0.2488 - val_accuracy: 0.9173 - val_loss: 0.2277 - learning_rate: 0.0010\n",
      "Epoch 17/500\n",
      "\u001b[1m52/52\u001b[0m \u001b[32m━━━━━━━━━━━━━━━━━━━━\u001b[0m\u001b[37m\u001b[0m \u001b[1m0s\u001b[0m 2ms/step - accuracy: 0.9214 - loss: 0.2281 - val_accuracy: 0.9173 - val_loss: 0.2166 - learning_rate: 0.0010\n",
      "Epoch 18/500\n",
      "\u001b[1m52/52\u001b[0m \u001b[32m━━━━━━━━━━━━━━━━━━━━\u001b[0m\u001b[37m\u001b[0m \u001b[1m0s\u001b[0m 2ms/step - accuracy: 0.9151 - loss: 0.2243 - val_accuracy: 0.9148 - val_loss: 0.2091 - learning_rate: 0.0010\n",
      "Epoch 19/500\n",
      "\u001b[1m52/52\u001b[0m \u001b[32m━━━━━━━━━━━━━━━━━━━━\u001b[0m\u001b[37m\u001b[0m \u001b[1m0s\u001b[0m 2ms/step - accuracy: 0.9171 - loss: 0.1976 - val_accuracy: 0.9270 - val_loss: 0.1986 - learning_rate: 0.0010\n",
      "Epoch 20/500\n",
      "\u001b[1m52/52\u001b[0m \u001b[32m━━━━━━━━━━━━━━━━━━━━\u001b[0m\u001b[37m\u001b[0m \u001b[1m0s\u001b[0m 2ms/step - accuracy: 0.9264 - loss: 0.1869 - val_accuracy: 0.9246 - val_loss: 0.1930 - learning_rate: 0.0010\n",
      "Epoch 21/500\n",
      "\u001b[1m52/52\u001b[0m \u001b[32m━━━━━━━━━━━━━━━━━━━━\u001b[0m\u001b[37m\u001b[0m \u001b[1m0s\u001b[0m 2ms/step - accuracy: 0.9328 - loss: 0.1759 - val_accuracy: 0.9319 - val_loss: 0.1833 - learning_rate: 0.0010\n",
      "Epoch 22/500\n",
      "\u001b[1m52/52\u001b[0m \u001b[32m━━━━━━━━━━━━━━━━━━━━\u001b[0m\u001b[37m\u001b[0m \u001b[1m0s\u001b[0m 2ms/step - accuracy: 0.9326 - loss: 0.1764 - val_accuracy: 0.9270 - val_loss: 0.1774 - learning_rate: 0.0010\n",
      "Epoch 23/500\n",
      "\u001b[1m52/52\u001b[0m \u001b[32m━━━━━━━━━━━━━━━━━━━━\u001b[0m\u001b[37m\u001b[0m \u001b[1m0s\u001b[0m 2ms/step - accuracy: 0.9400 - loss: 0.1588 - val_accuracy: 0.9416 - val_loss: 0.1696 - learning_rate: 0.0010\n",
      "Epoch 24/500\n",
      "\u001b[1m52/52\u001b[0m \u001b[32m━━━━━━━━━━━━━━━━━━━━\u001b[0m\u001b[37m\u001b[0m \u001b[1m0s\u001b[0m 2ms/step - accuracy: 0.9432 - loss: 0.1583 - val_accuracy: 0.9319 - val_loss: 0.1658 - learning_rate: 0.0010\n",
      "Epoch 25/500\n",
      "\u001b[1m52/52\u001b[0m \u001b[32m━━━━━━━━━━━━━━━━━━━━\u001b[0m\u001b[37m\u001b[0m \u001b[1m0s\u001b[0m 2ms/step - accuracy: 0.9446 - loss: 0.1519 - val_accuracy: 0.9367 - val_loss: 0.1585 - learning_rate: 0.0010\n",
      "Epoch 26/500\n",
      "\u001b[1m52/52\u001b[0m \u001b[32m━━━━━━━━━━━━━━━━━━━━\u001b[0m\u001b[37m\u001b[0m \u001b[1m0s\u001b[0m 2ms/step - accuracy: 0.9463 - loss: 0.1473 - val_accuracy: 0.9367 - val_loss: 0.1542 - learning_rate: 0.0010\n",
      "Epoch 27/500\n",
      "\u001b[1m52/52\u001b[0m \u001b[32m━━━━━━━━━━━━━━━━━━━━\u001b[0m\u001b[37m\u001b[0m \u001b[1m0s\u001b[0m 2ms/step - accuracy: 0.9486 - loss: 0.1452 - val_accuracy: 0.9319 - val_loss: 0.1521 - learning_rate: 0.0010\n",
      "Epoch 28/500\n",
      "\u001b[1m52/52\u001b[0m \u001b[32m━━━━━━━━━━━━━━━━━━━━\u001b[0m\u001b[37m\u001b[0m \u001b[1m0s\u001b[0m 2ms/step - accuracy: 0.9396 - loss: 0.1452 - val_accuracy: 0.9392 - val_loss: 0.1446 - learning_rate: 0.0010\n",
      "Epoch 29/500\n",
      "\u001b[1m52/52\u001b[0m \u001b[32m━━━━━━━━━━━━━━━━━━━━\u001b[0m\u001b[37m\u001b[0m \u001b[1m0s\u001b[0m 2ms/step - accuracy: 0.9552 - loss: 0.1317 - val_accuracy: 0.9392 - val_loss: 0.1393 - learning_rate: 0.0010\n",
      "Epoch 30/500\n",
      "\u001b[1m52/52\u001b[0m \u001b[32m━━━━━━━━━━━━━━━━━━━━\u001b[0m\u001b[37m\u001b[0m \u001b[1m0s\u001b[0m 2ms/step - accuracy: 0.9538 - loss: 0.1286 - val_accuracy: 0.9416 - val_loss: 0.1358 - learning_rate: 0.0010\n",
      "Epoch 31/500\n",
      "\u001b[1m52/52\u001b[0m \u001b[32m━━━━━━━━━━━━━━━━━━━━\u001b[0m\u001b[37m\u001b[0m \u001b[1m0s\u001b[0m 2ms/step - accuracy: 0.9571 - loss: 0.1229 - val_accuracy: 0.9513 - val_loss: 0.1300 - learning_rate: 0.0010\n",
      "Epoch 32/500\n",
      "\u001b[1m52/52\u001b[0m \u001b[32m━━━━━━━━━━━━━━━━━━━━\u001b[0m\u001b[37m\u001b[0m \u001b[1m0s\u001b[0m 2ms/step - accuracy: 0.9634 - loss: 0.1088 - val_accuracy: 0.9659 - val_loss: 0.1255 - learning_rate: 0.0010\n",
      "Epoch 33/500\n",
      "\u001b[1m52/52\u001b[0m \u001b[32m━━━━━━━━━━━━━━━━━━━━\u001b[0m\u001b[37m\u001b[0m \u001b[1m0s\u001b[0m 2ms/step - accuracy: 0.9638 - loss: 0.1197 - val_accuracy: 0.9440 - val_loss: 0.1257 - learning_rate: 0.0010\n",
      "Epoch 34/500\n",
      "\u001b[1m52/52\u001b[0m \u001b[32m━━━━━━━━━━━━━━━━━━━━\u001b[0m\u001b[37m\u001b[0m \u001b[1m0s\u001b[0m 2ms/step - accuracy: 0.9652 - loss: 0.1154 - val_accuracy: 0.9538 - val_loss: 0.1197 - learning_rate: 0.0010\n",
      "Epoch 35/500\n",
      "\u001b[1m52/52\u001b[0m \u001b[32m━━━━━━━━━━━━━━━━━━━━\u001b[0m\u001b[37m\u001b[0m \u001b[1m0s\u001b[0m 2ms/step - accuracy: 0.9623 - loss: 0.1154 - val_accuracy: 0.9538 - val_loss: 0.1172 - learning_rate: 0.0010\n",
      "Epoch 36/500\n",
      "\u001b[1m52/52\u001b[0m \u001b[32m━━━━━━━━━━━━━━━━━━━━\u001b[0m\u001b[37m\u001b[0m \u001b[1m0s\u001b[0m 2ms/step - accuracy: 0.9680 - loss: 0.1105 - val_accuracy: 0.9538 - val_loss: 0.1147 - learning_rate: 0.0010\n",
      "Epoch 37/500\n",
      "\u001b[1m52/52\u001b[0m \u001b[32m━━━━━━━━━━━━━━━━━━━━\u001b[0m\u001b[37m\u001b[0m \u001b[1m0s\u001b[0m 2ms/step - accuracy: 0.9639 - loss: 0.1015 - val_accuracy: 0.9635 - val_loss: 0.1090 - learning_rate: 0.0010\n",
      "Epoch 38/500\n",
      "\u001b[1m52/52\u001b[0m \u001b[32m━━━━━━━━━━━━━━━━━━━━\u001b[0m\u001b[37m\u001b[0m \u001b[1m0s\u001b[0m 2ms/step - accuracy: 0.9771 - loss: 0.0987 - val_accuracy: 0.9611 - val_loss: 0.1081 - learning_rate: 0.0010\n",
      "Epoch 39/500\n",
      "\u001b[1m52/52\u001b[0m \u001b[32m━━━━━━━━━━━━━━━━━━━━\u001b[0m\u001b[37m\u001b[0m \u001b[1m0s\u001b[0m 2ms/step - accuracy: 0.9747 - loss: 0.1008 - val_accuracy: 0.9684 - val_loss: 0.1036 - learning_rate: 0.0010\n",
      "Epoch 40/500\n",
      "\u001b[1m52/52\u001b[0m \u001b[32m━━━━━━━━━━━━━━━━━━━━\u001b[0m\u001b[37m\u001b[0m \u001b[1m0s\u001b[0m 2ms/step - accuracy: 0.9718 - loss: 0.0944 - val_accuracy: 0.9684 - val_loss: 0.1010 - learning_rate: 0.0010\n",
      "Epoch 41/500\n",
      "\u001b[1m52/52\u001b[0m \u001b[32m━━━━━━━━━━━━━━━━━━━━\u001b[0m\u001b[37m\u001b[0m \u001b[1m0s\u001b[0m 2ms/step - accuracy: 0.9742 - loss: 0.0922 - val_accuracy: 0.9805 - val_loss: 0.0982 - learning_rate: 0.0010\n",
      "Epoch 42/500\n",
      "\u001b[1m52/52\u001b[0m \u001b[32m━━━━━━━━━━━━━━━━━━━━\u001b[0m\u001b[37m\u001b[0m \u001b[1m0s\u001b[0m 2ms/step - accuracy: 0.9754 - loss: 0.0888 - val_accuracy: 0.9684 - val_loss: 0.0972 - learning_rate: 0.0010\n",
      "Epoch 43/500\n",
      "\u001b[1m52/52\u001b[0m \u001b[32m━━━━━━━━━━━━━━━━━━━━\u001b[0m\u001b[37m\u001b[0m \u001b[1m0s\u001b[0m 3ms/step - accuracy: 0.9721 - loss: 0.0944 - val_accuracy: 0.9684 - val_loss: 0.0953 - learning_rate: 0.0010\n",
      "Epoch 44/500\n",
      "\u001b[1m52/52\u001b[0m \u001b[32m━━━━━━━━━━━━━━━━━━━━\u001b[0m\u001b[37m\u001b[0m \u001b[1m0s\u001b[0m 2ms/step - accuracy: 0.9662 - loss: 0.0971 - val_accuracy: 0.9684 - val_loss: 0.0939 - learning_rate: 0.0010\n",
      "Epoch 45/500\n",
      "\u001b[1m52/52\u001b[0m \u001b[32m━━━━━━━━━━━━━━━━━━━━\u001b[0m\u001b[37m\u001b[0m \u001b[1m0s\u001b[0m 2ms/step - accuracy: 0.9755 - loss: 0.0854 - val_accuracy: 0.9732 - val_loss: 0.0900 - learning_rate: 0.0010\n",
      "Epoch 46/500\n",
      "\u001b[1m52/52\u001b[0m \u001b[32m━━━━━━━━━━━━━━━━━━━━\u001b[0m\u001b[37m\u001b[0m \u001b[1m0s\u001b[0m 2ms/step - accuracy: 0.9833 - loss: 0.0824 - val_accuracy: 0.9732 - val_loss: 0.0893 - learning_rate: 0.0010\n",
      "Epoch 47/500\n",
      "\u001b[1m52/52\u001b[0m \u001b[32m━━━━━━━━━━━━━━━━━━━━\u001b[0m\u001b[37m\u001b[0m \u001b[1m0s\u001b[0m 3ms/step - accuracy: 0.9754 - loss: 0.0793 - val_accuracy: 0.9684 - val_loss: 0.0892 - learning_rate: 0.0010\n",
      "Epoch 48/500\n",
      "\u001b[1m52/52\u001b[0m \u001b[32m━━━━━━━━━━━━━━━━━━━━\u001b[0m\u001b[37m\u001b[0m \u001b[1m0s\u001b[0m 2ms/step - accuracy: 0.9764 - loss: 0.0797 - val_accuracy: 0.9757 - val_loss: 0.0846 - learning_rate: 0.0010\n",
      "Epoch 49/500\n",
      "\u001b[1m52/52\u001b[0m \u001b[32m━━━━━━━━━━━━━━━━━━━━\u001b[0m\u001b[37m\u001b[0m \u001b[1m0s\u001b[0m 3ms/step - accuracy: 0.9821 - loss: 0.0765 - val_accuracy: 0.9732 - val_loss: 0.0857 - learning_rate: 0.0010\n",
      "Epoch 50/500\n",
      "\u001b[1m52/52\u001b[0m \u001b[32m━━━━━━━━━━━━━━━━━━━━\u001b[0m\u001b[37m\u001b[0m \u001b[1m0s\u001b[0m 2ms/step - accuracy: 0.9771 - loss: 0.0799 - val_accuracy: 0.9732 - val_loss: 0.0821 - learning_rate: 0.0010\n",
      "Epoch 51/500\n",
      "\u001b[1m52/52\u001b[0m \u001b[32m━━━━━━━━━━━━━━━━━━━━\u001b[0m\u001b[37m\u001b[0m \u001b[1m0s\u001b[0m 2ms/step - accuracy: 0.9820 - loss: 0.0767 - val_accuracy: 0.9732 - val_loss: 0.0808 - learning_rate: 0.0010\n",
      "Epoch 52/500\n",
      "\u001b[1m52/52\u001b[0m \u001b[32m━━━━━━━━━━━━━━━━━━━━\u001b[0m\u001b[37m\u001b[0m \u001b[1m0s\u001b[0m 2ms/step - accuracy: 0.9716 - loss: 0.0800 - val_accuracy: 0.9708 - val_loss: 0.0824 - learning_rate: 0.0010\n",
      "Epoch 53/500\n",
      "\u001b[1m52/52\u001b[0m \u001b[32m━━━━━━━━━━━━━━━━━━━━\u001b[0m\u001b[37m\u001b[0m \u001b[1m0s\u001b[0m 2ms/step - accuracy: 0.9797 - loss: 0.0714 - val_accuracy: 0.9732 - val_loss: 0.0785 - learning_rate: 0.0010\n",
      "Epoch 54/500\n",
      "\u001b[1m52/52\u001b[0m \u001b[32m━━━━━━━━━━━━━━━━━━━━\u001b[0m\u001b[37m\u001b[0m \u001b[1m0s\u001b[0m 2ms/step - accuracy: 0.9813 - loss: 0.0741 - val_accuracy: 0.9757 - val_loss: 0.0758 - learning_rate: 0.0010\n",
      "Epoch 55/500\n",
      "\u001b[1m52/52\u001b[0m \u001b[32m━━━━━━━━━━━━━━━━━━━━\u001b[0m\u001b[37m\u001b[0m \u001b[1m0s\u001b[0m 2ms/step - accuracy: 0.9834 - loss: 0.0697 - val_accuracy: 0.9708 - val_loss: 0.0773 - learning_rate: 0.0010\n",
      "Epoch 56/500\n",
      "\u001b[1m52/52\u001b[0m \u001b[32m━━━━━━━━━━━━━━━━━━━━\u001b[0m\u001b[37m\u001b[0m \u001b[1m0s\u001b[0m 2ms/step - accuracy: 0.9835 - loss: 0.0644 - val_accuracy: 0.9757 - val_loss: 0.0740 - learning_rate: 0.0010\n",
      "Epoch 57/500\n",
      "\u001b[1m52/52\u001b[0m \u001b[32m━━━━━━━━━━━━━━━━━━━━\u001b[0m\u001b[37m\u001b[0m \u001b[1m0s\u001b[0m 2ms/step - accuracy: 0.9759 - loss: 0.0675 - val_accuracy: 0.9757 - val_loss: 0.0720 - learning_rate: 0.0010\n",
      "Epoch 58/500\n",
      "\u001b[1m52/52\u001b[0m \u001b[32m━━━━━━━━━━━━━━━━━━━━\u001b[0m\u001b[37m\u001b[0m \u001b[1m0s\u001b[0m 3ms/step - accuracy: 0.9805 - loss: 0.0657 - val_accuracy: 0.9732 - val_loss: 0.0729 - learning_rate: 0.0010\n",
      "Epoch 59/500\n",
      "\u001b[1m52/52\u001b[0m \u001b[32m━━━━━━━━━━━━━━━━━━━━\u001b[0m\u001b[37m\u001b[0m \u001b[1m0s\u001b[0m 3ms/step - accuracy: 0.9847 - loss: 0.0629 - val_accuracy: 0.9805 - val_loss: 0.0697 - learning_rate: 0.0010\n",
      "Epoch 60/500\n",
      "\u001b[1m52/52\u001b[0m \u001b[32m━━━━━━━━━━━━━━━━━━━━\u001b[0m\u001b[37m\u001b[0m \u001b[1m0s\u001b[0m 3ms/step - accuracy: 0.9871 - loss: 0.0654 - val_accuracy: 0.9781 - val_loss: 0.0687 - learning_rate: 0.0010\n",
      "Epoch 61/500\n",
      "\u001b[1m52/52\u001b[0m \u001b[32m━━━━━━━━━━━━━━━━━━━━\u001b[0m\u001b[37m\u001b[0m \u001b[1m0s\u001b[0m 3ms/step - accuracy: 0.9818 - loss: 0.0654 - val_accuracy: 0.9708 - val_loss: 0.0729 - learning_rate: 0.0010\n",
      "Epoch 62/500\n",
      "\u001b[1m52/52\u001b[0m \u001b[32m━━━━━━━━━━━━━━━━━━━━\u001b[0m\u001b[37m\u001b[0m \u001b[1m0s\u001b[0m 3ms/step - accuracy: 0.9765 - loss: 0.0679 - val_accuracy: 0.9781 - val_loss: 0.0671 - learning_rate: 0.0010\n",
      "Epoch 63/500\n",
      "\u001b[1m52/52\u001b[0m \u001b[32m━━━━━━━━━━━━━━━━━━━━\u001b[0m\u001b[37m\u001b[0m \u001b[1m0s\u001b[0m 2ms/step - accuracy: 0.9846 - loss: 0.0691 - val_accuracy: 0.9708 - val_loss: 0.0702 - learning_rate: 0.0010\n",
      "Epoch 64/500\n",
      "\u001b[1m52/52\u001b[0m \u001b[32m━━━━━━━━━━━━━━━━━━━━\u001b[0m\u001b[37m\u001b[0m \u001b[1m0s\u001b[0m 2ms/step - accuracy: 0.9843 - loss: 0.0634 - val_accuracy: 0.9732 - val_loss: 0.0675 - learning_rate: 0.0010\n",
      "Epoch 65/500\n",
      "\u001b[1m52/52\u001b[0m \u001b[32m━━━━━━━━━━━━━━━━━━━━\u001b[0m\u001b[37m\u001b[0m \u001b[1m0s\u001b[0m 2ms/step - accuracy: 0.9859 - loss: 0.0671 - val_accuracy: 0.9708 - val_loss: 0.0704 - learning_rate: 0.0010\n",
      "Epoch 66/500\n",
      "\u001b[1m52/52\u001b[0m \u001b[32m━━━━━━━━━━━━━━━━━━━━\u001b[0m\u001b[37m\u001b[0m \u001b[1m0s\u001b[0m 2ms/step - accuracy: 0.9839 - loss: 0.0583 - val_accuracy: 0.9708 - val_loss: 0.0689 - learning_rate: 0.0010\n",
      "Epoch 67/500\n",
      "\u001b[1m52/52\u001b[0m \u001b[32m━━━━━━━━━━━━━━━━━━━━\u001b[0m\u001b[37m\u001b[0m \u001b[1m0s\u001b[0m 2ms/step - accuracy: 0.9786 - loss: 0.0609 - val_accuracy: 0.9757 - val_loss: 0.0644 - learning_rate: 0.0010\n",
      "Epoch 68/500\n",
      "\u001b[1m52/52\u001b[0m \u001b[32m━━━━━━━━━━━━━━━━━━━━\u001b[0m\u001b[37m\u001b[0m \u001b[1m0s\u001b[0m 2ms/step - accuracy: 0.9855 - loss: 0.0548 - val_accuracy: 0.9781 - val_loss: 0.0619 - learning_rate: 0.0010\n",
      "Epoch 69/500\n",
      "\u001b[1m52/52\u001b[0m \u001b[32m━━━━━━━━━━━━━━━━━━━━\u001b[0m\u001b[37m\u001b[0m \u001b[1m0s\u001b[0m 3ms/step - accuracy: 0.9895 - loss: 0.0522 - val_accuracy: 0.9781 - val_loss: 0.0612 - learning_rate: 0.0010\n",
      "Epoch 70/500\n",
      "\u001b[1m52/52\u001b[0m \u001b[32m━━━━━━━━━━━━━━━━━━━━\u001b[0m\u001b[37m\u001b[0m \u001b[1m0s\u001b[0m 2ms/step - accuracy: 0.9873 - loss: 0.0572 - val_accuracy: 0.9781 - val_loss: 0.0605 - learning_rate: 0.0010\n",
      "Epoch 71/500\n",
      "\u001b[1m52/52\u001b[0m \u001b[32m━━━━━━━━━━━━━━━━━━━━\u001b[0m\u001b[37m\u001b[0m \u001b[1m0s\u001b[0m 3ms/step - accuracy: 0.9891 - loss: 0.0567 - val_accuracy: 0.9757 - val_loss: 0.0622 - learning_rate: 0.0010\n",
      "Epoch 72/500\n",
      "\u001b[1m52/52\u001b[0m \u001b[32m━━━━━━━━━━━━━━━━━━━━\u001b[0m\u001b[37m\u001b[0m \u001b[1m0s\u001b[0m 2ms/step - accuracy: 0.9877 - loss: 0.0531 - val_accuracy: 0.9903 - val_loss: 0.0586 - learning_rate: 0.0010\n",
      "Epoch 73/500\n",
      "\u001b[1m52/52\u001b[0m \u001b[32m━━━━━━━━━━━━━━━━━━━━\u001b[0m\u001b[37m\u001b[0m \u001b[1m0s\u001b[0m 4ms/step - accuracy: 0.9943 - loss: 0.0570 - val_accuracy: 0.9781 - val_loss: 0.0595 - learning_rate: 0.0010\n",
      "Epoch 74/500\n",
      "\u001b[1m52/52\u001b[0m \u001b[32m━━━━━━━━━━━━━━━━━━━━\u001b[0m\u001b[37m\u001b[0m \u001b[1m0s\u001b[0m 2ms/step - accuracy: 0.9887 - loss: 0.0516 - val_accuracy: 0.9781 - val_loss: 0.0585 - learning_rate: 0.0010\n",
      "Epoch 75/500\n",
      "\u001b[1m52/52\u001b[0m \u001b[32m━━━━━━━━━━━━━━━━━━━━\u001b[0m\u001b[37m\u001b[0m \u001b[1m0s\u001b[0m 2ms/step - accuracy: 0.9844 - loss: 0.0545 - val_accuracy: 0.9708 - val_loss: 0.0603 - learning_rate: 0.0010\n",
      "Epoch 76/500\n",
      "\u001b[1m52/52\u001b[0m \u001b[32m━━━━━━━━━━━━━━━━━━━━\u001b[0m\u001b[37m\u001b[0m \u001b[1m0s\u001b[0m 2ms/step - accuracy: 0.9876 - loss: 0.0567 - val_accuracy: 0.9757 - val_loss: 0.0587 - learning_rate: 0.0010\n",
      "Epoch 77/500\n",
      "\u001b[1m52/52\u001b[0m \u001b[32m━━━━━━━━━━━━━━━━━━━━\u001b[0m\u001b[37m\u001b[0m \u001b[1m0s\u001b[0m 2ms/step - accuracy: 0.9899 - loss: 0.0519 - val_accuracy: 0.9757 - val_loss: 0.0583 - learning_rate: 0.0010\n",
      "Epoch 78/500\n",
      "\u001b[1m52/52\u001b[0m \u001b[32m━━━━━━━━━━━━━━━━━━━━\u001b[0m\u001b[37m\u001b[0m \u001b[1m0s\u001b[0m 2ms/step - accuracy: 0.9891 - loss: 0.0512 - val_accuracy: 0.9781 - val_loss: 0.0565 - learning_rate: 0.0010\n",
      "Epoch 79/500\n",
      "\u001b[1m52/52\u001b[0m \u001b[32m━━━━━━━━━━━━━━━━━━━━\u001b[0m\u001b[37m\u001b[0m \u001b[1m0s\u001b[0m 2ms/step - accuracy: 0.9940 - loss: 0.0460 - val_accuracy: 0.9757 - val_loss: 0.0561 - learning_rate: 0.0010\n",
      "Epoch 80/500\n",
      "\u001b[1m52/52\u001b[0m \u001b[32m━━━━━━━━━━━━━━━━━━━━\u001b[0m\u001b[37m\u001b[0m \u001b[1m0s\u001b[0m 2ms/step - accuracy: 0.9865 - loss: 0.0539 - val_accuracy: 0.9732 - val_loss: 0.0578 - learning_rate: 0.0010\n",
      "Epoch 81/500\n",
      "\u001b[1m52/52\u001b[0m \u001b[32m━━━━━━━━━━━━━━━━━━━━\u001b[0m\u001b[37m\u001b[0m \u001b[1m0s\u001b[0m 2ms/step - accuracy: 0.9904 - loss: 0.0497 - val_accuracy: 0.9732 - val_loss: 0.0574 - learning_rate: 0.0010\n",
      "Epoch 82/500\n",
      "\u001b[1m52/52\u001b[0m \u001b[32m━━━━━━━━━━━━━━━━━━━━\u001b[0m\u001b[37m\u001b[0m \u001b[1m0s\u001b[0m 2ms/step - accuracy: 0.9891 - loss: 0.0480 - val_accuracy: 0.9732 - val_loss: 0.0560 - learning_rate: 0.0010\n",
      "Epoch 83/500\n",
      "\u001b[1m52/52\u001b[0m \u001b[32m━━━━━━━━━━━━━━━━━━━━\u001b[0m\u001b[37m\u001b[0m \u001b[1m0s\u001b[0m 2ms/step - accuracy: 0.9912 - loss: 0.0470 - val_accuracy: 0.9854 - val_loss: 0.0518 - learning_rate: 0.0010\n",
      "Epoch 84/500\n",
      "\u001b[1m52/52\u001b[0m \u001b[32m━━━━━━━━━━━━━━━━━━━━\u001b[0m\u001b[37m\u001b[0m \u001b[1m0s\u001b[0m 2ms/step - accuracy: 0.9907 - loss: 0.0521 - val_accuracy: 0.9732 - val_loss: 0.0548 - learning_rate: 0.0010\n",
      "Epoch 85/500\n",
      "\u001b[1m52/52\u001b[0m \u001b[32m━━━━━━━━━━━━━━━━━━━━\u001b[0m\u001b[37m\u001b[0m \u001b[1m0s\u001b[0m 2ms/step - accuracy: 0.9821 - loss: 0.0583 - val_accuracy: 0.9805 - val_loss: 0.0514 - learning_rate: 0.0010\n",
      "Epoch 86/500\n",
      "\u001b[1m52/52\u001b[0m \u001b[32m━━━━━━━━━━━━━━━━━━━━\u001b[0m\u001b[37m\u001b[0m \u001b[1m0s\u001b[0m 2ms/step - accuracy: 0.9914 - loss: 0.0457 - val_accuracy: 0.9732 - val_loss: 0.0541 - learning_rate: 0.0010\n",
      "Epoch 87/500\n",
      "\u001b[1m52/52\u001b[0m \u001b[32m━━━━━━━━━━━━━━━━━━━━\u001b[0m\u001b[37m\u001b[0m \u001b[1m0s\u001b[0m 3ms/step - accuracy: 0.9890 - loss: 0.0470 - val_accuracy: 0.9781 - val_loss: 0.0525 - learning_rate: 0.0010\n",
      "Epoch 88/500\n",
      "\u001b[1m52/52\u001b[0m \u001b[32m━━━━━━━━━━━━━━━━━━━━\u001b[0m\u001b[37m\u001b[0m \u001b[1m0s\u001b[0m 3ms/step - accuracy: 0.9898 - loss: 0.0441 - val_accuracy: 0.9903 - val_loss: 0.0484 - learning_rate: 0.0010\n",
      "Epoch 89/500\n",
      "\u001b[1m52/52\u001b[0m \u001b[32m━━━━━━━━━━━━━━━━━━━━\u001b[0m\u001b[37m\u001b[0m \u001b[1m0s\u001b[0m 3ms/step - accuracy: 0.9914 - loss: 0.0446 - val_accuracy: 0.9927 - val_loss: 0.0480 - learning_rate: 0.0010\n",
      "Epoch 90/500\n",
      "\u001b[1m52/52\u001b[0m \u001b[32m━━━━━━━━━━━━━━━━━━━━\u001b[0m\u001b[37m\u001b[0m \u001b[1m0s\u001b[0m 3ms/step - accuracy: 0.9939 - loss: 0.0405 - val_accuracy: 0.9927 - val_loss: 0.0476 - learning_rate: 0.0010\n",
      "Epoch 91/500\n",
      "\u001b[1m52/52\u001b[0m \u001b[32m━━━━━━━━━━━━━━━━━━━━\u001b[0m\u001b[37m\u001b[0m \u001b[1m0s\u001b[0m 3ms/step - accuracy: 0.9908 - loss: 0.0472 - val_accuracy: 0.9854 - val_loss: 0.0481 - learning_rate: 0.0010\n",
      "Epoch 92/500\n",
      "\u001b[1m52/52\u001b[0m \u001b[32m━━━━━━━━━━━━━━━━━━━━\u001b[0m\u001b[37m\u001b[0m \u001b[1m0s\u001b[0m 6ms/step - accuracy: 0.9916 - loss: 0.0480 - val_accuracy: 0.9927 - val_loss: 0.0469 - learning_rate: 0.0010\n",
      "Epoch 93/500\n",
      "\u001b[1m52/52\u001b[0m \u001b[32m━━━━━━━━━━━━━━━━━━━━\u001b[0m\u001b[37m\u001b[0m \u001b[1m0s\u001b[0m 3ms/step - accuracy: 0.9920 - loss: 0.0436 - val_accuracy: 0.9854 - val_loss: 0.0475 - learning_rate: 0.0010\n",
      "Epoch 94/500\n",
      "\u001b[1m52/52\u001b[0m \u001b[32m━━━━━━━━━━━━━━━━━━━━\u001b[0m\u001b[37m\u001b[0m \u001b[1m0s\u001b[0m 2ms/step - accuracy: 0.9910 - loss: 0.0437 - val_accuracy: 0.9781 - val_loss: 0.0499 - learning_rate: 0.0010\n",
      "Epoch 95/500\n",
      "\u001b[1m52/52\u001b[0m \u001b[32m━━━━━━━━━━━━━━━━━━━━\u001b[0m\u001b[37m\u001b[0m \u001b[1m0s\u001b[0m 2ms/step - accuracy: 0.9938 - loss: 0.0457 - val_accuracy: 0.9757 - val_loss: 0.0499 - learning_rate: 0.0010\n",
      "Epoch 96/500\n",
      "\u001b[1m52/52\u001b[0m \u001b[32m━━━━━━━━━━━━━━━━━━━━\u001b[0m\u001b[37m\u001b[0m \u001b[1m0s\u001b[0m 2ms/step - accuracy: 0.9915 - loss: 0.0459 - val_accuracy: 0.9805 - val_loss: 0.0477 - learning_rate: 0.0010\n",
      "Epoch 97/500\n",
      "\u001b[1m52/52\u001b[0m \u001b[32m━━━━━━━━━━━━━━━━━━━━\u001b[0m\u001b[37m\u001b[0m \u001b[1m0s\u001b[0m 3ms/step - accuracy: 0.9934 - loss: 0.0393 - val_accuracy: 0.9757 - val_loss: 0.0501 - learning_rate: 0.0010\n",
      "Epoch 98/500\n",
      "\u001b[1m52/52\u001b[0m \u001b[32m━━━━━━━━━━━━━━━━━━━━\u001b[0m\u001b[37m\u001b[0m \u001b[1m0s\u001b[0m 3ms/step - accuracy: 0.9849 - loss: 0.0454 - val_accuracy: 0.9854 - val_loss: 0.0456 - learning_rate: 0.0010\n",
      "Epoch 99/500\n",
      "\u001b[1m52/52\u001b[0m \u001b[32m━━━━━━━━━━━━━━━━━━━━\u001b[0m\u001b[37m\u001b[0m \u001b[1m0s\u001b[0m 2ms/step - accuracy: 0.9969 - loss: 0.0422 - val_accuracy: 0.9805 - val_loss: 0.0474 - learning_rate: 0.0010\n",
      "Epoch 100/500\n",
      "\u001b[1m52/52\u001b[0m \u001b[32m━━━━━━━━━━━━━━━━━━━━\u001b[0m\u001b[37m\u001b[0m \u001b[1m0s\u001b[0m 2ms/step - accuracy: 0.9939 - loss: 0.0430 - val_accuracy: 0.9757 - val_loss: 0.0481 - learning_rate: 0.0010\n",
      "Epoch 101/500\n",
      "\u001b[1m52/52\u001b[0m \u001b[32m━━━━━━━━━━━━━━━━━━━━\u001b[0m\u001b[37m\u001b[0m \u001b[1m0s\u001b[0m 2ms/step - accuracy: 0.9910 - loss: 0.0401 - val_accuracy: 0.9927 - val_loss: 0.0428 - learning_rate: 0.0010\n",
      "Epoch 102/500\n",
      "\u001b[1m52/52\u001b[0m \u001b[32m━━━━━━━━━━━━━━━━━━━━\u001b[0m\u001b[37m\u001b[0m \u001b[1m0s\u001b[0m 2ms/step - accuracy: 0.9921 - loss: 0.0430 - val_accuracy: 0.9927 - val_loss: 0.0431 - learning_rate: 0.0010\n",
      "Epoch 103/500\n",
      "\u001b[1m52/52\u001b[0m \u001b[32m━━━━━━━━━━━━━━━━━━━━\u001b[0m\u001b[37m\u001b[0m \u001b[1m0s\u001b[0m 2ms/step - accuracy: 0.9905 - loss: 0.0436 - val_accuracy: 0.9854 - val_loss: 0.0436 - learning_rate: 0.0010\n",
      "Epoch 104/500\n",
      "\u001b[1m52/52\u001b[0m \u001b[32m━━━━━━━━━━━━━━━━━━━━\u001b[0m\u001b[37m\u001b[0m \u001b[1m0s\u001b[0m 3ms/step - accuracy: 0.9941 - loss: 0.0416 - val_accuracy: 0.9854 - val_loss: 0.0436 - learning_rate: 0.0010\n",
      "Epoch 105/500\n",
      "\u001b[1m52/52\u001b[0m \u001b[32m━━━━━━━━━━━━━━━━━━━━\u001b[0m\u001b[37m\u001b[0m \u001b[1m0s\u001b[0m 2ms/step - accuracy: 0.9916 - loss: 0.0447 - val_accuracy: 0.9830 - val_loss: 0.0442 - learning_rate: 0.0010\n",
      "Epoch 106/500\n",
      "\u001b[1m52/52\u001b[0m \u001b[32m━━━━━━━━━━━━━━━━━━━━\u001b[0m\u001b[37m\u001b[0m \u001b[1m0s\u001b[0m 2ms/step - accuracy: 0.9896 - loss: 0.0378 - val_accuracy: 0.9830 - val_loss: 0.0443 - learning_rate: 0.0010\n",
      "Epoch 107/500\n",
      "\u001b[1m52/52\u001b[0m \u001b[32m━━━━━━━━━━━━━━━━━━━━\u001b[0m\u001b[37m\u001b[0m \u001b[1m0s\u001b[0m 2ms/step - accuracy: 0.9952 - loss: 0.0386 - val_accuracy: 0.9830 - val_loss: 0.0440 - learning_rate: 0.0010\n",
      "Epoch 108/500\n",
      "\u001b[1m52/52\u001b[0m \u001b[32m━━━━━━━━━━━━━━━━━━━━\u001b[0m\u001b[37m\u001b[0m \u001b[1m0s\u001b[0m 2ms/step - accuracy: 0.9914 - loss: 0.0383 - val_accuracy: 0.9951 - val_loss: 0.0407 - learning_rate: 0.0010\n",
      "Epoch 109/500\n",
      "\u001b[1m52/52\u001b[0m \u001b[32m━━━━━━━━━━━━━━━━━━━━\u001b[0m\u001b[37m\u001b[0m \u001b[1m0s\u001b[0m 2ms/step - accuracy: 0.9960 - loss: 0.0378 - val_accuracy: 0.9854 - val_loss: 0.0426 - learning_rate: 0.0010\n",
      "Epoch 110/500\n",
      "\u001b[1m52/52\u001b[0m \u001b[32m━━━━━━━━━━━━━━━━━━━━\u001b[0m\u001b[37m\u001b[0m \u001b[1m0s\u001b[0m 2ms/step - accuracy: 0.9931 - loss: 0.0396 - val_accuracy: 0.9830 - val_loss: 0.0429 - learning_rate: 0.0010\n",
      "Epoch 111/500\n",
      "\u001b[1m52/52\u001b[0m \u001b[32m━━━━━━━━━━━━━━━━━━━━\u001b[0m\u001b[37m\u001b[0m \u001b[1m0s\u001b[0m 2ms/step - accuracy: 0.9921 - loss: 0.0419 - val_accuracy: 0.9805 - val_loss: 0.0445 - learning_rate: 0.0010\n",
      "Epoch 112/500\n",
      "\u001b[1m52/52\u001b[0m \u001b[32m━━━━━━━━━━━━━━━━━━━━\u001b[0m\u001b[37m\u001b[0m \u001b[1m0s\u001b[0m 2ms/step - accuracy: 0.9910 - loss: 0.0426 - val_accuracy: 0.9708 - val_loss: 0.0541 - learning_rate: 0.0010\n",
      "Epoch 113/500\n",
      "\u001b[1m52/52\u001b[0m \u001b[32m━━━━━━━━━━━━━━━━━━━━\u001b[0m\u001b[37m\u001b[0m \u001b[1m0s\u001b[0m 2ms/step - accuracy: 0.9872 - loss: 0.0417 - val_accuracy: 0.9854 - val_loss: 0.0412 - learning_rate: 0.0010\n",
      "Epoch 114/500\n",
      "\u001b[1m52/52\u001b[0m \u001b[32m━━━━━━━━━━━━━━━━━━━━\u001b[0m\u001b[37m\u001b[0m \u001b[1m0s\u001b[0m 3ms/step - accuracy: 0.9968 - loss: 0.0406 - val_accuracy: 0.9757 - val_loss: 0.0465 - learning_rate: 0.0010\n",
      "Epoch 115/500\n",
      "\u001b[1m52/52\u001b[0m \u001b[32m━━━━━━━━━━━━━━━━━━━━\u001b[0m\u001b[37m\u001b[0m \u001b[1m0s\u001b[0m 4ms/step - accuracy: 0.9912 - loss: 0.0350 - val_accuracy: 0.9903 - val_loss: 0.0394 - learning_rate: 0.0010\n",
      "Epoch 116/500\n",
      "\u001b[1m52/52\u001b[0m \u001b[32m━━━━━━━━━━━━━━━━━━━━\u001b[0m\u001b[37m\u001b[0m \u001b[1m0s\u001b[0m 2ms/step - accuracy: 0.9927 - loss: 0.0355 - val_accuracy: 0.9927 - val_loss: 0.0384 - learning_rate: 0.0010\n",
      "Epoch 117/500\n",
      "\u001b[1m52/52\u001b[0m \u001b[32m━━━━━━━━━━━━━━━━━━━━\u001b[0m\u001b[37m\u001b[0m \u001b[1m0s\u001b[0m 2ms/step - accuracy: 0.9958 - loss: 0.0379 - val_accuracy: 0.9976 - val_loss: 0.0379 - learning_rate: 0.0010\n",
      "Epoch 118/500\n",
      "\u001b[1m52/52\u001b[0m \u001b[32m━━━━━━━━━━━━━━━━━━━━\u001b[0m\u001b[37m\u001b[0m \u001b[1m0s\u001b[0m 2ms/step - accuracy: 0.9932 - loss: 0.0349 - val_accuracy: 0.9951 - val_loss: 0.0372 - learning_rate: 0.0010\n",
      "Epoch 119/500\n",
      "\u001b[1m52/52\u001b[0m \u001b[32m━━━━━━━━━━━━━━━━━━━━\u001b[0m\u001b[37m\u001b[0m \u001b[1m0s\u001b[0m 2ms/step - accuracy: 0.9916 - loss: 0.0355 - val_accuracy: 0.9903 - val_loss: 0.0381 - learning_rate: 0.0010\n",
      "Epoch 120/500\n",
      "\u001b[1m52/52\u001b[0m \u001b[32m━━━━━━━━━━━━━━━━━━━━\u001b[0m\u001b[37m\u001b[0m \u001b[1m0s\u001b[0m 3ms/step - accuracy: 0.9941 - loss: 0.0331 - val_accuracy: 0.9854 - val_loss: 0.0399 - learning_rate: 0.0010\n",
      "Epoch 121/500\n",
      "\u001b[1m52/52\u001b[0m \u001b[32m━━━━━━━━━━━━━━━━━━━━\u001b[0m\u001b[37m\u001b[0m \u001b[1m0s\u001b[0m 3ms/step - accuracy: 0.9954 - loss: 0.0343 - val_accuracy: 0.9854 - val_loss: 0.0385 - learning_rate: 0.0010\n",
      "Epoch 122/500\n",
      "\u001b[1m52/52\u001b[0m \u001b[32m━━━━━━━━━━━━━━━━━━━━\u001b[0m\u001b[37m\u001b[0m \u001b[1m0s\u001b[0m 3ms/step - accuracy: 0.9942 - loss: 0.0383 - val_accuracy: 0.9805 - val_loss: 0.0420 - learning_rate: 0.0010\n",
      "Epoch 123/500\n",
      "\u001b[1m52/52\u001b[0m \u001b[32m━━━━━━━━━━━━━━━━━━━━\u001b[0m\u001b[37m\u001b[0m \u001b[1m0s\u001b[0m 2ms/step - accuracy: 0.9933 - loss: 0.0328 - val_accuracy: 0.9854 - val_loss: 0.0386 - learning_rate: 0.0010\n",
      "Epoch 124/500\n",
      "\u001b[1m52/52\u001b[0m \u001b[32m━━━━━━━━━━━━━━━━━━━━\u001b[0m\u001b[37m\u001b[0m \u001b[1m0s\u001b[0m 3ms/step - accuracy: 0.9958 - loss: 0.0294 - val_accuracy: 0.9976 - val_loss: 0.0359 - learning_rate: 0.0010\n",
      "Epoch 125/500\n",
      "\u001b[1m52/52\u001b[0m \u001b[32m━━━━━━━━━━━━━━━━━━━━\u001b[0m\u001b[37m\u001b[0m \u001b[1m0s\u001b[0m 2ms/step - accuracy: 0.9917 - loss: 0.0353 - val_accuracy: 0.9854 - val_loss: 0.0378 - learning_rate: 0.0010\n",
      "Epoch 126/500\n",
      "\u001b[1m52/52\u001b[0m \u001b[32m━━━━━━━━━━━━━━━━━━━━\u001b[0m\u001b[37m\u001b[0m \u001b[1m0s\u001b[0m 2ms/step - accuracy: 0.9931 - loss: 0.0328 - val_accuracy: 0.9976 - val_loss: 0.0351 - learning_rate: 0.0010\n",
      "Epoch 127/500\n",
      "\u001b[1m52/52\u001b[0m \u001b[32m━━━━━━━━━━━━━━━━━━━━\u001b[0m\u001b[37m\u001b[0m \u001b[1m0s\u001b[0m 2ms/step - accuracy: 0.9937 - loss: 0.0373 - val_accuracy: 0.9854 - val_loss: 0.0369 - learning_rate: 0.0010\n",
      "Epoch 128/500\n",
      "\u001b[1m52/52\u001b[0m \u001b[32m━━━━━━━━━━━━━━━━━━━━\u001b[0m\u001b[37m\u001b[0m \u001b[1m0s\u001b[0m 2ms/step - accuracy: 0.9965 - loss: 0.0326 - val_accuracy: 0.9830 - val_loss: 0.0395 - learning_rate: 0.0010\n",
      "Epoch 129/500\n",
      "\u001b[1m52/52\u001b[0m \u001b[32m━━━━━━━━━━━━━━━━━━━━\u001b[0m\u001b[37m\u001b[0m \u001b[1m0s\u001b[0m 2ms/step - accuracy: 0.9964 - loss: 0.0328 - val_accuracy: 0.9830 - val_loss: 0.0385 - learning_rate: 0.0010\n",
      "Epoch 130/500\n",
      "\u001b[1m52/52\u001b[0m \u001b[32m━━━━━━━━━━━━━━━━━━━━\u001b[0m\u001b[37m\u001b[0m \u001b[1m0s\u001b[0m 2ms/step - accuracy: 0.9924 - loss: 0.0317 - val_accuracy: 0.9976 - val_loss: 0.0339 - learning_rate: 0.0010\n",
      "Epoch 131/500\n",
      "\u001b[1m52/52\u001b[0m \u001b[32m━━━━━━━━━━━━━━━━━━━━\u001b[0m\u001b[37m\u001b[0m \u001b[1m0s\u001b[0m 2ms/step - accuracy: 0.9956 - loss: 0.0325 - val_accuracy: 0.9830 - val_loss: 0.0379 - learning_rate: 0.0010\n",
      "Epoch 132/500\n",
      "\u001b[1m52/52\u001b[0m \u001b[32m━━━━━━━━━━━━━━━━━━━━\u001b[0m\u001b[37m\u001b[0m \u001b[1m0s\u001b[0m 2ms/step - accuracy: 0.9925 - loss: 0.0349 - val_accuracy: 0.9781 - val_loss: 0.0408 - learning_rate: 0.0010\n",
      "Epoch 133/500\n",
      "\u001b[1m52/52\u001b[0m \u001b[32m━━━━━━━━━━━━━━━━━━━━\u001b[0m\u001b[37m\u001b[0m \u001b[1m0s\u001b[0m 2ms/step - accuracy: 0.9889 - loss: 0.0375 - val_accuracy: 0.9830 - val_loss: 0.0378 - learning_rate: 0.0010\n",
      "Epoch 134/500\n",
      "\u001b[1m52/52\u001b[0m \u001b[32m━━━━━━━━━━━━━━━━━━━━\u001b[0m\u001b[37m\u001b[0m \u001b[1m0s\u001b[0m 4ms/step - accuracy: 0.9973 - loss: 0.0316 - val_accuracy: 0.9878 - val_loss: 0.0354 - learning_rate: 0.0010\n",
      "Epoch 135/500\n",
      "\u001b[1m52/52\u001b[0m \u001b[32m━━━━━━━━━━━━━━━━━━━━\u001b[0m\u001b[37m\u001b[0m \u001b[1m0s\u001b[0m 3ms/step - accuracy: 0.9943 - loss: 0.0320 - val_accuracy: 0.9781 - val_loss: 0.0404 - learning_rate: 0.0010\n",
      "Epoch 136/500\n",
      "\u001b[1m52/52\u001b[0m \u001b[32m━━━━━━━━━━━━━━━━━━━━\u001b[0m\u001b[37m\u001b[0m \u001b[1m0s\u001b[0m 2ms/step - accuracy: 0.9959 - loss: 0.0320 - val_accuracy: 0.9951 - val_loss: 0.0340 - learning_rate: 0.0010\n",
      "Epoch 137/500\n",
      "\u001b[1m52/52\u001b[0m \u001b[32m━━━━━━━━━━━━━━━━━━━━\u001b[0m\u001b[37m\u001b[0m \u001b[1m0s\u001b[0m 3ms/step - accuracy: 0.9948 - loss: 0.0329 - val_accuracy: 0.9830 - val_loss: 0.0367 - learning_rate: 0.0010\n",
      "Epoch 138/500\n",
      "\u001b[1m52/52\u001b[0m \u001b[32m━━━━━━━━━━━━━━━━━━━━\u001b[0m\u001b[37m\u001b[0m \u001b[1m0s\u001b[0m 2ms/step - accuracy: 0.9955 - loss: 0.0282 - val_accuracy: 0.9951 - val_loss: 0.0335 - learning_rate: 0.0010\n",
      "Epoch 139/500\n",
      "\u001b[1m52/52\u001b[0m \u001b[32m━━━━━━━━━━━━━━━━━━━━\u001b[0m\u001b[37m\u001b[0m \u001b[1m0s\u001b[0m 2ms/step - accuracy: 0.9975 - loss: 0.0341 - val_accuracy: 0.9927 - val_loss: 0.0343 - learning_rate: 0.0010\n",
      "Epoch 140/500\n",
      "\u001b[1m52/52\u001b[0m \u001b[32m━━━━━━━━━━━━━━━━━━━━\u001b[0m\u001b[37m\u001b[0m \u001b[1m0s\u001b[0m 2ms/step - accuracy: 0.9977 - loss: 0.0300 - val_accuracy: 0.9951 - val_loss: 0.0329 - learning_rate: 0.0010\n",
      "Epoch 141/500\n",
      "\u001b[1m52/52\u001b[0m \u001b[32m━━━━━━━━━━━━━━━━━━━━\u001b[0m\u001b[37m\u001b[0m \u001b[1m0s\u001b[0m 2ms/step - accuracy: 0.9962 - loss: 0.0308 - val_accuracy: 0.9927 - val_loss: 0.0335 - learning_rate: 0.0010\n",
      "Epoch 142/500\n",
      "\u001b[1m52/52\u001b[0m \u001b[32m━━━━━━━━━━━━━━━━━━━━\u001b[0m\u001b[37m\u001b[0m \u001b[1m0s\u001b[0m 2ms/step - accuracy: 0.9937 - loss: 0.0319 - val_accuracy: 0.9976 - val_loss: 0.0325 - learning_rate: 0.0010\n",
      "Epoch 143/500\n",
      "\u001b[1m52/52\u001b[0m \u001b[32m━━━━━━━━━━━━━━━━━━━━\u001b[0m\u001b[37m\u001b[0m \u001b[1m0s\u001b[0m 2ms/step - accuracy: 0.9982 - loss: 0.0292 - val_accuracy: 0.9976 - val_loss: 0.0316 - learning_rate: 0.0010\n",
      "Epoch 144/500\n",
      "\u001b[1m52/52\u001b[0m \u001b[32m━━━━━━━━━━━━━━━━━━━━\u001b[0m\u001b[37m\u001b[0m \u001b[1m0s\u001b[0m 2ms/step - accuracy: 0.9963 - loss: 0.0324 - val_accuracy: 0.9976 - val_loss: 0.0312 - learning_rate: 0.0010\n",
      "Epoch 145/500\n",
      "\u001b[1m52/52\u001b[0m \u001b[32m━━━━━━━━━━━━━━━━━━━━\u001b[0m\u001b[37m\u001b[0m \u001b[1m0s\u001b[0m 2ms/step - accuracy: 0.9962 - loss: 0.0355 - val_accuracy: 0.9976 - val_loss: 0.0319 - learning_rate: 0.0010\n",
      "Epoch 146/500\n",
      "\u001b[1m52/52\u001b[0m \u001b[32m━━━━━━━━━━━━━━━━━━━━\u001b[0m\u001b[37m\u001b[0m \u001b[1m0s\u001b[0m 2ms/step - accuracy: 0.9953 - loss: 0.0275 - val_accuracy: 0.9830 - val_loss: 0.0367 - learning_rate: 0.0010\n",
      "Epoch 147/500\n",
      "\u001b[1m52/52\u001b[0m \u001b[32m━━━━━━━━━━━━━━━━━━━━\u001b[0m\u001b[37m\u001b[0m \u001b[1m0s\u001b[0m 2ms/step - accuracy: 0.9936 - loss: 0.0296 - val_accuracy: 0.9976 - val_loss: 0.0314 - learning_rate: 0.0010\n",
      "Epoch 148/500\n",
      "\u001b[1m52/52\u001b[0m \u001b[32m━━━━━━━━━━━━━━━━━━━━\u001b[0m\u001b[37m\u001b[0m \u001b[1m0s\u001b[0m 2ms/step - accuracy: 0.9983 - loss: 0.0286 - val_accuracy: 0.9927 - val_loss: 0.0321 - learning_rate: 0.0010\n",
      "Epoch 149/500\n",
      "\u001b[1m52/52\u001b[0m \u001b[32m━━━━━━━━━━━━━━━━━━━━\u001b[0m\u001b[37m\u001b[0m \u001b[1m0s\u001b[0m 2ms/step - accuracy: 0.9972 - loss: 0.0283 - val_accuracy: 0.9951 - val_loss: 0.0322 - learning_rate: 0.0010\n",
      "Epoch 150/500\n",
      "\u001b[1m52/52\u001b[0m \u001b[32m━━━━━━━━━━━━━━━━━━━━\u001b[0m\u001b[37m\u001b[0m \u001b[1m0s\u001b[0m 4ms/step - accuracy: 0.9961 - loss: 0.0259 - val_accuracy: 0.9903 - val_loss: 0.0328 - learning_rate: 0.0010\n",
      "Epoch 151/500\n",
      "\u001b[1m52/52\u001b[0m \u001b[32m━━━━━━━━━━━━━━━━━━━━\u001b[0m\u001b[37m\u001b[0m \u001b[1m0s\u001b[0m 2ms/step - accuracy: 0.9983 - loss: 0.0264 - val_accuracy: 0.9854 - val_loss: 0.0338 - learning_rate: 0.0010\n",
      "Epoch 152/500\n",
      "\u001b[1m52/52\u001b[0m \u001b[32m━━━━━━━━━━━━━━━━━━━━\u001b[0m\u001b[37m\u001b[0m \u001b[1m0s\u001b[0m 2ms/step - accuracy: 0.9955 - loss: 0.0279 - val_accuracy: 0.9903 - val_loss: 0.0325 - learning_rate: 0.0010\n",
      "Epoch 153/500\n",
      "\u001b[1m52/52\u001b[0m \u001b[32m━━━━━━━━━━━━━━━━━━━━\u001b[0m\u001b[37m\u001b[0m \u001b[1m0s\u001b[0m 2ms/step - accuracy: 0.9975 - loss: 0.0262 - val_accuracy: 0.9976 - val_loss: 0.0297 - learning_rate: 0.0010\n",
      "Epoch 154/500\n",
      "\u001b[1m52/52\u001b[0m \u001b[32m━━━━━━━━━━━━━━━━━━━━\u001b[0m\u001b[37m\u001b[0m \u001b[1m0s\u001b[0m 2ms/step - accuracy: 0.9964 - loss: 0.0277 - val_accuracy: 0.9976 - val_loss: 0.0304 - learning_rate: 0.0010\n",
      "Epoch 155/500\n",
      "\u001b[1m52/52\u001b[0m \u001b[32m━━━━━━━━━━━━━━━━━━━━\u001b[0m\u001b[37m\u001b[0m \u001b[1m0s\u001b[0m 2ms/step - accuracy: 0.9974 - loss: 0.0257 - val_accuracy: 0.9976 - val_loss: 0.0292 - learning_rate: 0.0010\n",
      "Epoch 156/500\n",
      "\u001b[1m52/52\u001b[0m \u001b[32m━━━━━━━━━━━━━━━━━━━━\u001b[0m\u001b[37m\u001b[0m \u001b[1m0s\u001b[0m 2ms/step - accuracy: 0.9962 - loss: 0.0262 - val_accuracy: 0.9951 - val_loss: 0.0284 - learning_rate: 0.0010\n",
      "Epoch 157/500\n",
      "\u001b[1m52/52\u001b[0m \u001b[32m━━━━━━━━━━━━━━━━━━━━\u001b[0m\u001b[37m\u001b[0m \u001b[1m0s\u001b[0m 3ms/step - accuracy: 0.9964 - loss: 0.0280 - val_accuracy: 0.9976 - val_loss: 0.0292 - learning_rate: 0.0010\n",
      "Epoch 158/500\n",
      "\u001b[1m52/52\u001b[0m \u001b[32m━━━━━━━━━━━━━━━━━━━━\u001b[0m\u001b[37m\u001b[0m \u001b[1m0s\u001b[0m 4ms/step - accuracy: 0.9950 - loss: 0.0242 - val_accuracy: 0.9976 - val_loss: 0.0299 - learning_rate: 0.0010\n",
      "Epoch 159/500\n",
      "\u001b[1m52/52\u001b[0m \u001b[32m━━━━━━━━━━━━━━━━━━━━\u001b[0m\u001b[37m\u001b[0m \u001b[1m0s\u001b[0m 2ms/step - accuracy: 0.9987 - loss: 0.0285 - val_accuracy: 0.9830 - val_loss: 0.0339 - learning_rate: 0.0010\n",
      "Epoch 160/500\n",
      "\u001b[1m52/52\u001b[0m \u001b[32m━━━━━━━━━━━━━━━━━━━━\u001b[0m\u001b[37m\u001b[0m \u001b[1m0s\u001b[0m 2ms/step - accuracy: 0.9932 - loss: 0.0300 - val_accuracy: 0.9830 - val_loss: 0.0326 - learning_rate: 0.0010\n",
      "Epoch 161/500\n",
      "\u001b[1m52/52\u001b[0m \u001b[32m━━━━━━━━━━━━━━━━━━━━\u001b[0m\u001b[37m\u001b[0m \u001b[1m0s\u001b[0m 2ms/step - accuracy: 0.9958 - loss: 0.0288 - val_accuracy: 0.9951 - val_loss: 0.0302 - learning_rate: 0.0010\n",
      "Epoch 162/500\n",
      "\u001b[1m52/52\u001b[0m \u001b[32m━━━━━━━━━━━━━━━━━━━━\u001b[0m\u001b[37m\u001b[0m \u001b[1m0s\u001b[0m 3ms/step - accuracy: 0.9953 - loss: 0.0257 - val_accuracy: 0.9976 - val_loss: 0.0287 - learning_rate: 0.0010\n",
      "Epoch 163/500\n",
      "\u001b[1m52/52\u001b[0m \u001b[32m━━━━━━━━━━━━━━━━━━━━\u001b[0m\u001b[37m\u001b[0m \u001b[1m0s\u001b[0m 2ms/step - accuracy: 0.9953 - loss: 0.0269 - val_accuracy: 0.9830 - val_loss: 0.0325 - learning_rate: 0.0010\n",
      "Epoch 164/500\n",
      "\u001b[1m52/52\u001b[0m \u001b[32m━━━━━━━━━━━━━━━━━━━━\u001b[0m\u001b[37m\u001b[0m \u001b[1m0s\u001b[0m 4ms/step - accuracy: 0.9985 - loss: 0.0230 - val_accuracy: 0.9976 - val_loss: 0.0277 - learning_rate: 0.0010\n",
      "Epoch 165/500\n",
      "\u001b[1m52/52\u001b[0m \u001b[32m━━━━━━━━━━━━━━━━━━━━\u001b[0m\u001b[37m\u001b[0m \u001b[1m0s\u001b[0m 2ms/step - accuracy: 0.9955 - loss: 0.0265 - val_accuracy: 0.9903 - val_loss: 0.0304 - learning_rate: 0.0010\n",
      "Epoch 166/500\n",
      "\u001b[1m52/52\u001b[0m \u001b[32m━━━━━━━━━━━━━━━━━━━━\u001b[0m\u001b[37m\u001b[0m \u001b[1m0s\u001b[0m 3ms/step - accuracy: 0.9973 - loss: 0.0274 - val_accuracy: 0.9805 - val_loss: 0.0347 - learning_rate: 0.0010\n",
      "Epoch 167/500\n",
      "\u001b[1m52/52\u001b[0m \u001b[32m━━━━━━━━━━━━━━━━━━━━\u001b[0m\u001b[37m\u001b[0m \u001b[1m0s\u001b[0m 3ms/step - accuracy: 0.9942 - loss: 0.0232 - val_accuracy: 0.9976 - val_loss: 0.0274 - learning_rate: 0.0010\n",
      "Epoch 168/500\n",
      "\u001b[1m52/52\u001b[0m \u001b[32m━━━━━━━━━━━━━━━━━━━━\u001b[0m\u001b[37m\u001b[0m \u001b[1m0s\u001b[0m 3ms/step - accuracy: 0.9976 - loss: 0.0234 - val_accuracy: 0.9951 - val_loss: 0.0264 - learning_rate: 0.0010\n",
      "Epoch 169/500\n",
      "\u001b[1m52/52\u001b[0m \u001b[32m━━━━━━━━━━━━━━━━━━━━\u001b[0m\u001b[37m\u001b[0m \u001b[1m0s\u001b[0m 3ms/step - accuracy: 0.9977 - loss: 0.0228 - val_accuracy: 0.9976 - val_loss: 0.0287 - learning_rate: 0.0010\n",
      "Epoch 170/500\n",
      "\u001b[1m52/52\u001b[0m \u001b[32m━━━━━━━━━━━━━━━━━━━━\u001b[0m\u001b[37m\u001b[0m \u001b[1m0s\u001b[0m 2ms/step - accuracy: 0.9917 - loss: 0.0277 - val_accuracy: 0.9976 - val_loss: 0.0261 - learning_rate: 0.0010\n",
      "Epoch 171/500\n",
      "\u001b[1m52/52\u001b[0m \u001b[32m━━━━━━━━━━━━━━━━━━━━\u001b[0m\u001b[37m\u001b[0m \u001b[1m0s\u001b[0m 2ms/step - accuracy: 0.9907 - loss: 0.0296 - val_accuracy: 0.9976 - val_loss: 0.0279 - learning_rate: 0.0010\n",
      "Epoch 172/500\n",
      "\u001b[1m52/52\u001b[0m \u001b[32m━━━━━━━━━━━━━━━━━━━━\u001b[0m\u001b[37m\u001b[0m \u001b[1m0s\u001b[0m 3ms/step - accuracy: 0.9987 - loss: 0.0232 - val_accuracy: 0.9805 - val_loss: 0.0344 - learning_rate: 0.0010\n",
      "Epoch 173/500\n",
      "\u001b[1m52/52\u001b[0m \u001b[32m━━━━━━━━━━━━━━━━━━━━\u001b[0m\u001b[37m\u001b[0m \u001b[1m0s\u001b[0m 2ms/step - accuracy: 0.9957 - loss: 0.0216 - val_accuracy: 0.9976 - val_loss: 0.0283 - learning_rate: 0.0010\n",
      "Epoch 174/500\n",
      "\u001b[1m52/52\u001b[0m \u001b[32m━━━━━━━━━━━━━━━━━━━━\u001b[0m\u001b[37m\u001b[0m \u001b[1m0s\u001b[0m 3ms/step - accuracy: 0.9959 - loss: 0.0244 - val_accuracy: 0.9854 - val_loss: 0.0310 - learning_rate: 0.0010\n",
      "Epoch 175/500\n",
      "\u001b[1m52/52\u001b[0m \u001b[32m━━━━━━━━━━━━━━━━━━━━\u001b[0m\u001b[37m\u001b[0m \u001b[1m0s\u001b[0m 2ms/step - accuracy: 0.9963 - loss: 0.0288 - val_accuracy: 0.9830 - val_loss: 0.0336 - learning_rate: 0.0010\n",
      "Epoch 176/500\n",
      "\u001b[1m52/52\u001b[0m \u001b[32m━━━━━━━━━━━━━━━━━━━━\u001b[0m\u001b[37m\u001b[0m \u001b[1m0s\u001b[0m 2ms/step - accuracy: 0.9962 - loss: 0.0246 - val_accuracy: 0.9951 - val_loss: 0.0283 - learning_rate: 0.0010\n",
      "Epoch 177/500\n",
      "\u001b[1m52/52\u001b[0m \u001b[32m━━━━━━━━━━━━━━━━━━━━\u001b[0m\u001b[37m\u001b[0m \u001b[1m0s\u001b[0m 4ms/step - accuracy: 0.9981 - loss: 0.0219 - val_accuracy: 0.9976 - val_loss: 0.0279 - learning_rate: 0.0010\n",
      "Epoch 178/500\n",
      "\u001b[1m52/52\u001b[0m \u001b[32m━━━━━━━━━━━━━━━━━━━━\u001b[0m\u001b[37m\u001b[0m \u001b[1m0s\u001b[0m 2ms/step - accuracy: 0.9992 - loss: 0.0229 - val_accuracy: 0.9903 - val_loss: 0.0289 - learning_rate: 0.0010\n",
      "Epoch 179/500\n",
      "\u001b[1m52/52\u001b[0m \u001b[32m━━━━━━━━━━━━━━━━━━━━\u001b[0m\u001b[37m\u001b[0m \u001b[1m0s\u001b[0m 2ms/step - accuracy: 0.9994 - loss: 0.0227 - val_accuracy: 0.9976 - val_loss: 0.0261 - learning_rate: 0.0010\n",
      "Epoch 180/500\n",
      "\u001b[1m52/52\u001b[0m \u001b[32m━━━━━━━━━━━━━━━━━━━━\u001b[0m\u001b[37m\u001b[0m \u001b[1m0s\u001b[0m 2ms/step - accuracy: 0.9994 - loss: 0.0233 - val_accuracy: 0.9976 - val_loss: 0.0264 - learning_rate: 0.0010\n"
     ]
    }
   ],
   "source": [
    "#Melatih Model\n",
    "history = model.fit(X_train, y_train,\n",
    "    validation_data=(X_test, y_test),\n",
    "    epochs=500, callbacks=[early_stopping,reduce_lr])"
   ]
  },
  {
   "cell_type": "markdown",
   "metadata": {
    "id": "_XYrwWkX4A1D"
   },
   "source": [
    "#Evaluasi Model"
   ]
  },
  {
   "cell_type": "code",
   "execution_count": 24,
   "metadata": {
    "colab": {
     "base_uri": "https://localhost:8080/"
    },
    "id": "BM6Cj6UgLbXP",
    "outputId": "8b2c7a20-0481-4e04-e9f4-3a7f94910c91"
   },
   "outputs": [
    {
     "name": "stdout",
     "output_type": "stream",
     "text": [
      "Training Loss: 0.0258, Training Accuracy: 0.9970\n",
      "Testing Loss: 0.0261, Testing Accuracy: 0.9976\n"
     ]
    }
   ],
   "source": [
    "#Memeriksa train,test loss dan train,test accuracy\n",
    "train_loss, train_accuracy = model.evaluate(X_train, y_train, verbose=0)\n",
    "test_loss, test_accuracy = model.evaluate(X_test, y_test, verbose=0)\n",
    "\n",
    "print(f\"Training Loss: {train_loss:.4f}, Training Accuracy: {train_accuracy:.4f}\")\n",
    "print(f\"Testing Loss: {test_loss:.4f}, Testing Accuracy: {test_accuracy:.4f}\")"
   ]
  },
  {
   "cell_type": "code",
   "execution_count": 25,
   "metadata": {
    "colab": {
     "base_uri": "https://localhost:8080/",
     "height": 957
    },
    "id": "aScGJtd3Ld11",
    "outputId": "85893fcc-fe69-4854-e6e7-2023507806e8"
   },
   "outputs": [
    {
     "data": {
      "image/png": "[encoded data removed]",
      "text/plain": [
       "<Figure size 1000x500 with 1 Axes>"
      ]
     },
     "metadata": {},
     "output_type": "display_data"
    },
    {
     "data": {
      "image/png": "[encoded data removed]",
      "text/plain": [
       "<Figure size 1000x500 with 1 Axes>"
      ]
     },
     "metadata": {},
     "output_type": "display_data"
    }
   ],
   "source": [
    "# Membuat Plot Loss\n",
    "plt.figure(figsize=(10, 5))\n",
    "plt.plot(history.history['loss'], label='Training Loss')\n",
    "plt.plot(history.history['val_loss'], label='Validation Loss')\n",
    "plt.xlabel('Epochs')\n",
    "plt.ylabel('Loss')\n",
    "plt.legend()\n",
    "plt.title('Training vs Validation Loss')\n",
    "plt.show()\n",
    "\n",
    "# Membuat Plot Accuracy\n",
    "plt.figure(figsize=(10, 5))\n",
    "plt.plot(history.history['accuracy'], label='Training Accuracy')\n",
    "plt.plot(history.history['val_accuracy'], label='Validation Accuracy')\n",
    "plt.xlabel('Epochs')\n",
    "plt.ylabel('Accuracy')\n",
    "plt.legend()\n",
    "plt.title('Training vs Validation Accuracy')\n",
    "plt.show()"
   ]
  },
  {
   "cell_type": "code",
   "execution_count": 26,
   "metadata": {
    "colab": {
     "base_uri": "https://localhost:8080/"
    },
    "id": "-9zbcGGZ0c_h",
    "outputId": "3665676e-a0e6-47fa-c8e7-56e8583cae55"
   },
   "outputs": [
    {
     "name": "stdout",
     "output_type": "stream",
     "text": [
      "\u001b[1m13/13\u001b[0m \u001b[32m━━━━━━━━━━━━━━━━━━━━\u001b[0m\u001b[37m\u001b[0m \u001b[1m0s\u001b[0m 875us/step - accuracy: 0.9974 - loss: 0.0223\n"
     ]
    },
    {
     "data": {
      "text/plain": [
       "[0.02607516385614872, 0.9975669384002686]"
      ]
     },
     "execution_count": 26,
     "metadata": {},
     "output_type": "execute_result"
    }
   ],
   "source": [
    "#Mengevaluasi Model\n",
    "model.evaluate(X_test,y_test)"
   ]
  },
  {
   "cell_type": "code",
   "execution_count": 27,
   "metadata": {
    "colab": {
     "base_uri": "https://localhost:8080/"
    },
    "id": "mzbG3hAy5LZ3",
    "outputId": "e6942cb3-1874-404b-9ad5-20d09e705bec"
   },
   "outputs": [
    {
     "name": "stdout",
     "output_type": "stream",
     "text": [
      "\u001b[1m13/13\u001b[0m \u001b[32m━━━━━━━━━━━━━━━━━━━━\u001b[0m\u001b[37m\u001b[0m \u001b[1m0s\u001b[0m 7ms/step\n",
      "\n",
      "Hasil Klasifikasi:\n",
      "              precision    recall  f1-score   support\n",
      "\n",
      "           0       1.00      1.00      1.00       368\n",
      "           1       1.00      0.98      0.99        43\n",
      "\n",
      "    accuracy                           1.00       411\n",
      "   macro avg       1.00      0.99      0.99       411\n",
      "weighted avg       1.00      1.00      1.00       411\n",
      "\n"
     ]
    }
   ],
   "source": [
    "#Membuat Hasil Klasifikasi Model\n",
    "pred = (model.predict(X_test) > 0.5).astype(int)\n",
    "print(\"\\nHasil Klasifikasi:\")\n",
    "print(classification_report(y_test, pred))"
   ]
  },
  {
   "cell_type": "code",
   "execution_count": 28,
   "metadata": {
    "colab": {
     "base_uri": "https://localhost:8080/",
     "height": 489
    },
    "id": "_grrximC0frE",
    "outputId": "dcb31f5a-b3e1-4f0a-8c07-5ea8621e7432"
   },
   "outputs": [
    {
     "data": {
      "text/plain": [
       "<Figure size 800x600 with 0 Axes>"
      ]
     },
     "metadata": {},
     "output_type": "display_data"
    },
    {
     "data": {
      "image/png": "[encoded data removed]",
      "text/plain": [
       "<Figure size 640x480 with 2 Axes>"
      ]
     },
     "metadata": {},
     "output_type": "display_data"
    }
   ],
   "source": [
    "# Tampilan confusion matrix\n",
    "plt.figure(figsize=(8, 6))\n",
    "cm = confusion_matrix(y_test, pred)\n",
    "disp = ConfusionMatrixDisplay(confusion_matrix=cm,\n",
    "                              display_labels=['No Mental Health Issue', 'Mental Health Issue'])\n",
    "disp.plot(cmap=plt.cm.Blues)\n",
    "plt.title('Confusion Matrix')\n",
    "plt.show()"
   ]
  },
  {
   "cell_type": "code",
   "execution_count": 29,
   "metadata": {
    "colab": {
     "base_uri": "https://localhost:8080/"
    },
    "id": "kU6-_fNS5alp",
    "outputId": "19cf8926-0966-4539-8361-0072af84bbe9"
   },
   "outputs": [
    {
     "name": "stdout",
     "output_type": "stream",
     "text": [
      "Akurasi Model: 0.9976\n"
     ]
    }
   ],
   "source": [
    "# Evaluasi\n",
    "loss, accuracy = model.evaluate(X_test, y_test, verbose=0)\n",
    "print(f\"Akurasi Model: {accuracy:.4f}\")"
   ]
  },
  {
   "cell_type": "markdown",
   "metadata": {},
   "source": [
    "#Save Model as JSON"
   ]
  },
  {
   "cell_type": "code",
   "execution_count": 30,
   "metadata": {},
   "outputs": [],
   "source": [
    "from tensorflow.keras.models import model_from_json\n",
    "\n",
    "model_in_json = model.to_json()\n",
    "with open('model2.json', 'w') as json_file:\n",
    "    json_file.write(model_in_json)"
   ]
  },
  {
   "cell_type": "markdown",
   "metadata": {
    "id": "IYJTW_hz4Pu_"
   },
   "source": [
    "#Save Model"
   ]
  },
  {
   "cell_type": "code",
   "execution_count": 23,
   "metadata": {
    "colab": {
     "base_uri": "https://localhost:8080/"
    },
    "id": "C1GnDYpNLrd_",
    "outputId": "f5353a39-32ad-40e0-84d1-53aa199a05c2"
   },
   "outputs": [
    {
     "name": "stderr",
     "output_type": "stream",
     "text": [
      "WARNING:absl:You are saving your model as an HDF5 file via `model.save()` or `keras.saving.save_model(model)`. This file format is considered legacy. We recommend using instead the native Keras format, e.g. `model.save('my_model.keras')` or `keras.saving.save_model(model, 'my_model.keras')`. \n"
     ]
    }
   ],
   "source": [
    "dir = \"Saved_Model\"\n",
    "os.makedirs(dir, exist_ok=True)\n",
    "\n",
    "# Simpan model\n",
    "model.save(os.path.join(dir, 'classification_diagnose.h5'))"
   ]
  },
  {
   "cell_type": "code",
   "execution_count": 24,
   "metadata": {
    "colab": {
     "base_uri": "https://localhost:8080/"
    },
    "id": "xoygjnEXNwGm",
    "outputId": "1c536757-c534-4510-dedb-c8b4990a8cea"
   },
   "outputs": [
    {
     "name": "stderr",
     "output_type": "stream",
     "text": [
      "WARNING:absl:Compiled the loaded model, but the compiled metrics have yet to be built. `model.compile_metrics` will be empty until you train or evaluate the model.\n"
     ]
    }
   ],
   "source": [
    "#Load Model\n",
    "model = load_model('Saved_Model/classification_diagnose.h5')"
   ]
  },
  {
   "cell_type": "markdown",
   "metadata": {
    "id": "7vCws6BB4HPQ"
   },
   "source": [
    "#Testing Model"
   ]
  },
  {
   "cell_type": "code",
   "execution_count": 25,
   "metadata": {
    "id": "8ZfJORna6epz"
   },
   "outputs": [],
   "source": [
    "# Input pasien\n",
    "patient = {\n",
    "    'Age': [1.0],\n",
    "    'Gender': [1.0],\n",
    "    'Work Pressure': [5.0],\n",
    "    'Job Satisfaction': [0.0],\n",
    "    'Sleep Duration': [0.0],\n",
    "    'Dietary Habits': [0.0],\n",
    "    'Have you ever had suicidal thoughts ?': [1.0],\n",
    "    'Work Hours': [14.0],\n",
    "    'Financial Stress': [5.0],\n",
    "    'Family History of Mental Illness': [1.0]\n",
    "}"
   ]
  },
  {
   "cell_type": "code",
   "execution_count": 26,
   "metadata": {
    "id": "FCZKd-3A6i4Z"
   },
   "outputs": [],
   "source": [
    "patient_data = pd.DataFrame(patient)[X.columns]\n",
    "# Membuat Prediksi\n",
    "result = model.predict(patient_data, verbose=0)[0][0]"
   ]
  },
  {
   "cell_type": "code",
   "execution_count": 27,
   "metadata": {
    "colab": {
     "base_uri": "https://localhost:8080/"
    },
    "id": "B_MCa1Jw09ry",
    "outputId": "74978466-a366-4f26-b0b3-39a1ec0bf948"
   },
   "outputs": [
    {
     "name": "stdout",
     "output_type": "stream",
     "text": [
      "=== Mental Health Analysis Results ===\n",
      "Diagnosis    : Mental Health Issue Detected\n",
      "Confidence   : 96.7%\n",
      "\n",
      "Detected Risk Factors:\n",
      "- Older age may increase the risk of depression\n",
      "- Very high work pressure\n",
      "- Very low job satisfaction level\n",
      "- Very insufficient sleep duration (<5 hours)\n",
      "- Unhealthy dietary habits\n",
      "- Detected suicidal thoughts (Requires immediate professional intervention)\n",
      "- Excessive working hours (>12 hours)\n",
      "- Very high financial stress\n",
      "- Family history of mental illness detected\n"
     ]
    }
   ],
   "source": [
    "# Membuat Treshold\n",
    "print(\"=== Mental Health Analysis Results ===\")\n",
    "score = result * 100\n",
    "if result > 0.5:\n",
    "    print(\"Diagnosis    : Mental Health Issue Detected\")\n",
    "    print(f\"Confidence   : {score:.1f}%\")\n",
    "else:\n",
    "    print(\"Diagnosis    : No Mental Health Issue Detected\")\n",
    "    print(f\"Confidence   : {100 - score:.1f}%\")\n",
    "\n",
    "# Analisis Faktor Resiko\n",
    "print(\"\\nDetected Risk Factors:\")\n",
    "risk_factors = []\n",
    "\n",
    "if patient['Age'][0] >= 0.6:\n",
    "    risk_factors.append(\"Older age may increase the risk of depression\")\n",
    "elif patient['Age'][0] <= 0.2:\n",
    "    risk_factors.append(\"Young age may be vulnerable to mental stress\")\n",
    "if patient['Work Pressure'][0] >= 4:\n",
    "    risk_factors.append(\"Very high work pressure\")\n",
    "elif patient['Work Pressure'][0] >= 3:\n",
    "    risk_factors.append(\"High work pressure (Needs attention)\")\n",
    "if patient['Job Satisfaction'][0] <= 2:\n",
    "    risk_factors.append(\"Very low job satisfaction level\")\n",
    "elif patient['Job Satisfaction'][0] <= 3:\n",
    "    risk_factors.append(\"Low job satisfaction level\")\n",
    "if patient['Sleep Duration'][0] == 0:\n",
    "    risk_factors.append(\"Very insufficient sleep duration (<5 hours)\")\n",
    "elif patient['Sleep Duration'][0] == 1:\n",
    "    risk_factors.append(\"Insufficient sleep duration (5-6 hours)\")\n",
    "if patient['Dietary Habits'][0] == 0:\n",
    "    risk_factors.append(\"Unhealthy dietary habits\")\n",
    "elif patient['Dietary Habits'][0] == 1:\n",
    "    risk_factors.append(\"Dietary habits need improvement\")\n",
    "if patient['Have you ever had suicidal thoughts ?'][0] == 1:\n",
    "    risk_factors.append(\"Detected suicidal thoughts (Requires immediate professional intervention)\")\n",
    "if patient['Work Hours'][0] >= 12:\n",
    "    risk_factors.append(\"Excessive working hours (>12 hours)\")\n",
    "elif patient['Work Hours'][0] >= 10:\n",
    "    risk_factors.append(\"High working hours (>10 hours)\")\n",
    "if patient['Financial Stress'][0] >= 4:\n",
    "    risk_factors.append(\"Very high financial stress\")\n",
    "elif patient['Financial Stress'][0] >= 3:\n",
    "    risk_factors.append(\"High financial stress\")\n",
    "if patient['Family History of Mental Illness'][0] == 1:\n",
    "    risk_factors.append(\"Family history of mental illness detected\")\n",
    "\n",
    "# Menampilkan Faktor Resiko\n",
    "if risk_factors:\n",
    "    for risk in risk_factors:\n",
    "        print(f\"- {risk}\")\n",
    "else:\n",
    "    print(\"- No significant risk factors detected\")"
   ]
  },
  {
   "cell_type": "code",
   "execution_count": 28,
   "metadata": {
    "colab": {
     "base_uri": "https://localhost:8080/"
    },
    "id": "k8yXoF_E95rR",
    "outputId": "b1d2f4de-94ee-4035-f524-8d984bcede5f"
   },
   "outputs": [
    {
     "name": "stdout",
     "output_type": "stream",
     "text": [
      "Recommendations:\n",
      "1. Consult a mental health professional immediately\n",
      "2. Consider taking leave or reducing workload\n",
      "3. Establish a regular sleep routine\n",
      "4. Improve healthy eating habits\n",
      "5. Engage in light physical activity regularly\n"
     ]
    }
   ],
   "source": [
    "#Membuat Rekomendasi Untuk User\n",
    "if result > 0.5:\n",
    "    print(\"Recommendations:\")\n",
    "    print(\"1. Consult a mental health professional immediately\")\n",
    "    print(\"2. Consider taking leave or reducing workload\")\n",
    "    print(\"3. Establish a regular sleep routine\")\n",
    "    print(\"4. Improve healthy eating habits\")\n",
    "    print(\"5. Engage in light physical activity regularly\")"
   ]
  }
 ],
 "metadata": {
  "colab": {
   "authorship_tag": "ABX9TyNbCE7adJhV7gLYQHljVs0T",
   "include_colab_link": true,
   "provenance": []
  },
  "kernelspec": {
   "display_name": "Python 3",
   "name": "python3"
  },
  "language_info": {
   "codemirror_mode": {
    "name": "ipython",
    "version": 3
   },
   "file_extension": ".py",
   "mimetype": "text/x-python",
   "name": "python",
   "nbconvert_exporter": "python",
   "pygments_lexer": "ipython3",
   "version": "3.12.6"
  }
 },
 "nbformat": 4,
 "nbformat_minor": 0
}
